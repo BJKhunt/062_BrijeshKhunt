{
 "cells": [
  {
   "cell_type": "code",
   "execution_count": 21,
   "id": "dc7d9ebe",
   "metadata": {},
   "outputs": [],
   "source": [
    "import numpy as np \n",
    "import pandas as pd\n",
    "import matplotlib.pyplot as plt"
   ]
  },
  {
   "cell_type": "code",
   "execution_count": 22,
   "id": "e2a6f31c",
   "metadata": {},
   "outputs": [
    {
     "name": "stdout",
     "output_type": "stream",
     "text": [
      "     Age  EstimatedSalary  Purchased\n",
      "0     19            19000          0\n",
      "1     35            20000          0\n",
      "2     26            43000          0\n",
      "3     27            57000          0\n",
      "4     19            76000          0\n",
      "..   ...              ...        ...\n",
      "395   46            41000          1\n",
      "396   51            23000          1\n",
      "397   50            20000          1\n",
      "398   36            33000          0\n",
      "399   49            36000          1\n",
      "\n",
      "[400 rows x 3 columns]\n"
     ]
    }
   ],
   "source": [
    "data = pd.read_csv(r'C:\\Users\\brijesh\\Downloads\\062_BrijeshKhunt\\lab6\\BuyComputer.csv')\n",
    "\n",
    "data.drop(columns=['User ID',],axis=1,inplace=True)\n",
    "data.head()\n",
    "print(data)"
   ]
  },
  {
   "cell_type": "code",
   "execution_count": 23,
   "id": "4a1ca2ca",
   "metadata": {},
   "outputs": [],
   "source": [
    "X = data.iloc[:,:-1].values\n",
    "y = data.iloc[:,-1].values"
   ]
  },
  {
   "cell_type": "code",
   "execution_count": 24,
   "id": "2f99414c",
   "metadata": {},
   "outputs": [],
   "source": [
    "from sklearn.model_selection import train_test_split\n",
    "X_train, X_test, y_train, y_test = train_test_split(X, y, test_size = 0.25, random_state = 0)"
   ]
  },
  {
   "cell_type": "code",
   "execution_count": 25,
   "id": "b434a748",
   "metadata": {},
   "outputs": [],
   "source": [
    "from sklearn.preprocessing import StandardScaler\n",
    "sc = StandardScaler()\n",
    "X_train = sc.fit_transform(X_train)\n",
    "X_test = sc.transform(X_test)"
   ]
  },
  {
   "cell_type": "code",
   "execution_count": 26,
   "id": "8d7363e5",
   "metadata": {},
   "outputs": [
    {
     "name": "stdout",
     "output_type": "stream",
     "text": [
      "2\n"
     ]
    }
   ],
   "source": [
    "#Variabes to calculate sigmoid function\n",
    "y_pred = []\n",
    "len_x = len(X_train[0])\n",
    "w = []\n",
    "b = 0.2\n",
    "print(len_x)"
   ]
  },
  {
   "cell_type": "code",
   "execution_count": 27,
   "id": "5b82191e",
   "metadata": {},
   "outputs": [
    {
     "name": "stdout",
     "output_type": "stream",
     "text": [
      "300\n",
      "[0, 0]\n"
     ]
    }
   ],
   "source": [
    "entries = len(X_train[:,0])\n",
    "print(entries)\n",
    "for weights in range(len_x):\n",
    "    w.append(0)\n",
    "print(w)"
   ]
  },
  {
   "cell_type": "code",
   "execution_count": 29,
   "id": "56a8492c",
   "metadata": {},
   "outputs": [],
   "source": [
    "def sigmoid(z):\n",
    " return (1/(1+np.exp(-z)))"
   ]
  },
  {
   "cell_type": "code",
   "execution_count": 30,
   "id": "f2432bf3",
   "metadata": {},
   "outputs": [],
   "source": [
    "def predict(inputs):\n",
    "    z = np.dot(w,inputs)+b\n",
    "    a = sigmoid(z)\n",
    "    return a"
   ]
  },
  {
   "cell_type": "code",
   "execution_count": 31,
   "id": "d2c981f8",
   "metadata": {},
   "outputs": [],
   "source": [
    "def loss_func(y,a):\n",
    "    J = -(y*np.log(a) + (1-y)*np.log(1-a))\n",
    "    return J"
   ]
  },
  {
   "cell_type": "code",
   "execution_count": 32,
   "id": "abd4215b",
   "metadata": {},
   "outputs": [],
   "source": [
    "dw = []\n",
    "db = 0\n",
    "J = 0\n",
    "alpha = 0.1\n",
    "for x in range(len_x):\n",
    "    dw.append(0)"
   ]
  },
  {
   "cell_type": "code",
   "execution_count": 33,
   "id": "fd7dbcf4",
   "metadata": {},
   "outputs": [],
   "source": [
    "#Repeating the process 3000 times\n",
    "for iterations in range(3000):\n",
    "    for i in range(entries):\n",
    "        localx = X_train[i]\n",
    "        a = predict(localx)   \n",
    "        dz = a - y_train[i]\n",
    "        J += loss_func(y_train[i],a)\n",
    "        for j in range(len_x):\n",
    "            dw[j] = dw[j]+(localx[j]*dz)\n",
    "        db += dz\n",
    "    J = J/entries\n",
    "    db = db/entries\n",
    "    for x in range(len_x):\n",
    "        dw[x]=dw[x]/entries\n",
    "    for x in range(len_x):\n",
    "        w[x] = w[x]-(alpha*dw[x])\n",
    "    b = b-(alpha*db)         \n",
    "    J=0"
   ]
  },
  {
   "cell_type": "code",
   "execution_count": 34,
   "id": "969d4588",
   "metadata": {},
   "outputs": [
    {
     "name": "stdout",
     "output_type": "stream",
     "text": [
      "[2.266627096644834, 1.2133988920991177]\n",
      "-1.0033198622205273\n"
     ]
    }
   ],
   "source": [
    "print(w)\n",
    "print(b)"
   ]
  },
  {
   "cell_type": "code",
   "execution_count": 35,
   "id": "ea8016cb",
   "metadata": {},
   "outputs": [],
   "source": [
    "#predicting the label\n",
    "for x in range(len(y_test)):\n",
    "    y_pred.append(predict(X_test[x]))"
   ]
  },
  {
   "cell_type": "code",
   "execution_count": 36,
   "id": "2aab2379",
   "metadata": {},
   "outputs": [],
   "source": [
    "for x in range(len(y_pred)):\n",
    "    if y_pred[x]>=0.5:\n",
    "        y_pred[x]=1\n",
    "    else:\n",
    "        y_pred[x]=0"
   ]
  },
  {
   "cell_type": "code",
   "execution_count": 37,
   "id": "b590f447",
   "metadata": {},
   "outputs": [
    {
     "name": "stdout",
     "output_type": "stream",
     "text": [
      "Accuracy: 89.0\n"
     ]
    }
   ],
   "source": [
    "# Calculating accuracy of prediction\n",
    "count = 0\n",
    "for x in range(len(y_pred)):\n",
    "    if(y_pred[x]==y_test[x]):\n",
    "        count=count+1\n",
    "print('Accuracy:',(count/(len(y_pred)))*100)"
   ]
  },
  {
   "cell_type": "code",
   "execution_count": 38,
   "id": "4c064666",
   "metadata": {},
   "outputs": [
    {
     "name": "stdout",
     "output_type": "stream",
     "text": [
      "Accuracy: 89.0\n"
     ]
    }
   ],
   "source": [
    "from sklearn.linear_model import LogisticRegression\n",
    "LR = LogisticRegression(random_state = 62)\n",
    "\n",
    "#Fit\n",
    "LR.fit(X_train, y_train)\n",
    "#predicting the test label with LR. Predict always takes X as input\n",
    "y_predLR=LR.predict(X_test)\n",
    "for x in range(len(y_pred)):\n",
    "    if y_predLR[x]>=0.5:\n",
    "        y_predLR[x]=1\n",
    "    else:\n",
    "        y_predLR[x]=0\n",
    "\n",
    "count = 0\n",
    "for x in range(len(y_pred)):\n",
    "    if(y_pred[x]==y_test[x]):\n",
    "        count=count+1\n",
    "print('Accuracy:',(count/(len(y_pred)))*100)"
   ]
  },
  {
   "cell_type": "code",
   "execution_count": null,
   "id": "0bdb92bd",
   "metadata": {},
   "outputs": [],
   "source": []
  },
  {
   "cell_type": "code",
   "execution_count": null,
   "id": "f5a2ce05",
   "metadata": {},
   "outputs": [],
   "source": []
  }
 ],
 "metadata": {
  "kernelspec": {
   "display_name": "Python 3",
   "language": "python",
   "name": "python3"
  },
  "language_info": {
   "codemirror_mode": {
    "name": "ipython",
    "version": 3
   },
   "file_extension": ".py",
   "mimetype": "text/x-python",
   "name": "python",
   "nbconvert_exporter": "python",
   "pygments_lexer": "ipython3",
   "version": "3.8.8"
  }
 },
 "nbformat": 4,
 "nbformat_minor": 5
}
