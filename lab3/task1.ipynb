{
 "cells": [
  {
   "cell_type": "code",
   "execution_count": 11,
   "id": "be0ac828",
   "metadata": {},
   "outputs": [],
   "source": [
    "import numpy as np\n",
    "import pandas as pd\n",
    "import matplotlib.pyplot as plt\n",
    "from sklearn import datasets, preprocessing\n",
    "from sklearn.naive_bayes import GaussianNB, MultinomialNB"
   ]
  },
  {
   "cell_type": "code",
   "execution_count": 36,
   "id": "0af62629",
   "metadata": {},
   "outputs": [
    {
     "name": "stdout",
     "output_type": "stream",
     "text": [
      "   Outlook Temp Wind Humidity Class\n",
      "0        R    H    F   Normal     N\n",
      "1        R    H    T     High     N\n",
      "2        O    H    F   Normal     Y\n",
      "3        S    M    F   Normal     N\n",
      "4        S    M    F   Normal     Y\n",
      "5        S    M    T      Low     Y\n",
      "6        O    C    T   Normal     Y\n",
      "7        R    C    F   Normal     Y\n",
      "8        R    C    F      Low     Y\n",
      "9        S    M    F     High     Y\n",
      "10       R    M    T     High     Y\n",
      "11       O    M    T      Low     Y\n",
      "12       O    H    F   Normal     Y\n",
      "13       S    M    T   Normal     N\n"
     ]
    }
   ],
   "source": [
    "data = pd.read_csv(r\"C:\\Users\\brijesh\\Downloads\\062_BrijeshKhunt\\lab3\\Dataset2.csv\")\n",
    "print(data)"
   ]
  },
  {
   "cell_type": "code",
   "execution_count": 37,
   "id": "9a033166",
   "metadata": {},
   "outputs": [],
   "source": [
    "label_encoder = preprocessing.LabelEncoder()\n",
    "\n",
    "for x in data:\n",
    "    data[x] = label_encoder.fit_transform(data[x])"
   ]
  },
  {
   "cell_type": "code",
   "execution_count": 38,
   "id": "156611be",
   "metadata": {},
   "outputs": [
    {
     "name": "stdout",
     "output_type": "stream",
     "text": [
      "((1, 1, 0, 2), (1, 1, 1, 0), (0, 1, 0, 2), (2, 2, 0, 2), (2, 2, 0, 2), (2, 2, 1, 1), (0, 0, 1, 2), (1, 0, 0, 2), (1, 0, 0, 1), (2, 2, 0, 0), (1, 2, 1, 0), (0, 2, 1, 1), (0, 1, 0, 2), (2, 2, 1, 2))\n",
      "0     0\n",
      "1     0\n",
      "2     1\n",
      "3     0\n",
      "4     1\n",
      "5     1\n",
      "6     1\n",
      "7     1\n",
      "8     1\n",
      "9     1\n",
      "10    1\n",
      "11    1\n",
      "12    1\n",
      "13    0\n",
      "Name: Class, dtype: int32\n"
     ]
    }
   ],
   "source": [
    "combined_features = tuple(zip(data[\"Outlook\"], data[\"Temp\"], data[\"Wind\"],data[\"Humidity\"]))\n",
    "print(combined_features)\n",
    "print(data[\"Class\"])"
   ]
  },
  {
   "cell_type": "code",
   "execution_count": 39,
   "id": "d00f366e",
   "metadata": {},
   "outputs": [],
   "source": [
    "from sklearn.model_selection import train_test_split\n",
    "\n",
    "X_train, X_test, Y_train, Y_test = train_test_split(combined_features,data[\"Class\"],test_size=0.10,random_state=62)"
   ]
  },
  {
   "cell_type": "code",
   "execution_count": 40,
   "id": "ac807314",
   "metadata": {},
   "outputs": [],
   "source": [
    "model = MultinomialNB()\n",
    "model.fit(X_train, Y_train)\n",
    "\n",
    "Y_predicted = model.predict(X_test)"
   ]
  },
  {
   "cell_type": "code",
   "execution_count": 41,
   "id": "4bd8beb0",
   "metadata": {},
   "outputs": [
    {
     "name": "stdout",
     "output_type": "stream",
     "text": [
      "Accuracy is :- 0.0\n"
     ]
    }
   ],
   "source": [
    "from sklearn import metrics\n",
    "\n",
    "print(f\"Accuracy is :- {metrics.accuracy_score(Y_test, Y_predicted)}\")"
   ]
  },
  {
   "cell_type": "code",
   "execution_count": 46,
   "id": "84282a13",
   "metadata": {},
   "outputs": [
    {
     "name": "stdout",
     "output_type": "stream",
     "text": [
      "precision :- 0.0\n",
      "recall :- 0.0\n"
     ]
    },
    {
     "name": "stderr",
     "output_type": "stream",
     "text": [
      "C:\\Users\\brijesh\\anaconda3\\lib\\site-packages\\sklearn\\metrics\\_classification.py:1245: UndefinedMetricWarning: Recall is ill-defined and being set to 0.0 due to no true samples. Use `zero_division` parameter to control this behavior.\n",
      "  _warn_prf(average, modifier, msg_start, len(result))\n"
     ]
    }
   ],
   "source": [
    "from sklearn.metrics import precision_score\n",
    "from sklearn.metrics import recall_score\n",
    "\n",
    "precision = precision_score(Y_test, Y_predicted)\n",
    "recall = recall_score(Y_test, Y_predicted)\n",
    "\n",
    "print(f\"precision :- {precision}\")\n",
    "print(f\"recall :- {recall}\")"
   ]
  },
  {
   "cell_type": "code",
   "execution_count": 44,
   "id": "d03ddedf",
   "metadata": {},
   "outputs": [
    {
     "name": "stdout",
     "output_type": "stream",
     "text": [
      "final prediction :- [1]\n"
     ]
    }
   ],
   "source": [
    "output = model.predict([[1, 2, 0, 2]])\n",
    "print(f\"final prediction :- {output}\")"
   ]
  },
  {
   "cell_type": "code",
   "execution_count": 45,
   "id": "e7e14c4c",
   "metadata": {},
   "outputs": [
    {
     "name": "stdout",
     "output_type": "stream",
     "text": [
      "final prediction :- [1]\n"
     ]
    }
   ],
   "source": [
    "output = model.predict([[2, 0, 1, 0]])\n",
    "print(f\"final prediction :- {output}\")"
   ]
  },
  {
   "cell_type": "code",
   "execution_count": null,
   "id": "805ea88a",
   "metadata": {},
   "outputs": [],
   "source": []
  }
 ],
 "metadata": {
  "kernelspec": {
   "display_name": "Python 3",
   "language": "python",
   "name": "python3"
  },
  "language_info": {
   "codemirror_mode": {
    "name": "ipython",
    "version": 3
   },
   "file_extension": ".py",
   "mimetype": "text/x-python",
   "name": "python",
   "nbconvert_exporter": "python",
   "pygments_lexer": "ipython3",
   "version": "3.8.8"
  }
 },
 "nbformat": 4,
 "nbformat_minor": 5
}
