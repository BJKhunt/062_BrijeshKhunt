{
 "cells": [
  {
   "cell_type": "code",
   "execution_count": 3,
   "id": "e093da64",
   "metadata": {},
   "outputs": [
    {
     "ename": "ModuleNotFoundError",
     "evalue": "No module named 'tensorflow'",
     "output_type": "error",
     "traceback": [
      "\u001b[1;31m---------------------------------------------------------------------------\u001b[0m",
      "\u001b[1;31mModuleNotFoundError\u001b[0m                       Traceback (most recent call last)",
      "\u001b[1;32m<ipython-input-3-814f90c70578>\u001b[0m in \u001b[0;36m<module>\u001b[1;34m\u001b[0m\n\u001b[0;32m      1\u001b[0m \u001b[1;32mimport\u001b[0m \u001b[0mnumpy\u001b[0m \u001b[1;32mas\u001b[0m \u001b[0mnp\u001b[0m\u001b[1;33m\u001b[0m\u001b[1;33m\u001b[0m\u001b[0m\n\u001b[1;32m----> 2\u001b[1;33m \u001b[1;32mimport\u001b[0m \u001b[0mtensorflow\u001b[0m\u001b[1;33m.\u001b[0m\u001b[0mcompat\u001b[0m\u001b[1;33m.\u001b[0m\u001b[0mv1\u001b[0m \u001b[1;32mas\u001b[0m \u001b[0mtf\u001b[0m\u001b[1;33m\u001b[0m\u001b[1;33m\u001b[0m\u001b[0m\n\u001b[0m\u001b[0;32m      3\u001b[0m \u001b[0mtf\u001b[0m\u001b[1;33m.\u001b[0m\u001b[0mdisable_v2_behavior\u001b[0m\u001b[1;33m(\u001b[0m\u001b[1;33m)\u001b[0m\u001b[1;33m\u001b[0m\u001b[1;33m\u001b[0m\u001b[0m\n\u001b[0;32m      4\u001b[0m \u001b[1;32mimport\u001b[0m \u001b[0mmatplotlib\u001b[0m\u001b[1;33m.\u001b[0m\u001b[0mpyplot\u001b[0m \u001b[1;32mas\u001b[0m \u001b[0mplt\u001b[0m\u001b[1;33m\u001b[0m\u001b[1;33m\u001b[0m\u001b[0m\n",
      "\u001b[1;31mModuleNotFoundError\u001b[0m: No module named 'tensorflow'"
     ]
    }
   ],
   "source": [
    "import numpy as np\n",
    "import tensorflow.compat.v1 as tf\n",
    "tf.disable_v2_behavior()\n",
    "import matplotlib.pyplot as plt"
   ]
  },
  {
   "cell_type": "code",
   "execution_count": 4,
   "id": "4b8edb6f",
   "metadata": {},
   "outputs": [],
   "source": [
    "def generate_dataset():\n",
    " x_batch = np.linspace(0, 2, 100)\n",
    " y_batch = 1.5 * x_batch + np.random.randn(*x_batch.shape) * 0.2 + 0.5\n",
    " return x_batch, y_batch"
   ]
  },
  {
   "cell_type": "code",
   "execution_count": 5,
   "id": "b4935db3",
   "metadata": {},
   "outputs": [],
   "source": [
    "def linear_regression():\n",
    "  x = tf.placeholder(tf.float32, shape=(None, ), name='x')\n",
    "  y = tf.placeholder(tf.float32, shape=(None, ), name='y')\n",
    "\n",
    "  with tf.variable_scope('lreg') as scope:\n",
    "    w = tf.Variable(np.random.normal(), name='W')\n",
    "    b = tf.Variable(np.random.normal(), name='b')\n",
    "\t\t\n",
    "    y_pred = tf.add(tf.multiply(w, x), b)\n",
    "\n",
    "    loss = tf.reduce_mean(tf.square(y_pred - y))\n",
    "\n",
    "  return x, y, y_pred, loss"
   ]
  },
  {
   "cell_type": "code",
   "execution_count": 6,
   "id": "b9f6e265",
   "metadata": {},
   "outputs": [],
   "source": [
    "def run():\n",
    "  x_batch, y_batch = generate_dataset()\n",
    "  x, y, y_pred, loss = linear_regression()\n",
    "\n",
    "  optimizer = tf.train.GradientDescentOptimizer(0.1)\n",
    "  train_op = optimizer.minimize(loss)\n",
    "\n",
    "  with tf.Session() as session:\n",
    "    session.run(tf.global_variables_initializer())\n",
    "    feed_dict = {x: x_batch, y: y_batch}\n",
    "\t\t\n",
    "    for i in range(30):\n",
    "      session.run(train_op, feed_dict)\n",
    "      print(i, \"loss:\", loss.eval(feed_dict))\n",
    "\n",
    "    print('Predicting')\n",
    "    y_pred_batch = session.run(y_pred, {x : x_batch})\n",
    "\n",
    "  plt.scatter(x_batch, y_batch)\n",
    "  plt.plot(x_batch, y_pred_batch, color='red')\n",
    "  plt.xlim(0, 2)\n",
    "  plt.ylim(0, 2)\n",
    "  plt.savefig('plot.png')"
   ]
  },
  {
   "cell_type": "code",
   "execution_count": null,
   "id": "30175275",
   "metadata": {},
   "outputs": [],
   "source": []
  }
 ],
 "metadata": {
  "kernelspec": {
   "display_name": "Python 3",
   "language": "python",
   "name": "python3"
  },
  "language_info": {
   "codemirror_mode": {
    "name": "ipython",
    "version": 3
   },
   "file_extension": ".py",
   "mimetype": "text/x-python",
   "name": "python",
   "nbconvert_exporter": "python",
   "pygments_lexer": "ipython3",
   "version": "3.8.8"
  }
 },
 "nbformat": 4,
 "nbformat_minor": 5
}
