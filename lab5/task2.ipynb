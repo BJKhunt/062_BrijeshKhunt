{
 "cells": [
  {
   "cell_type": "code",
   "execution_count": 16,
   "id": "3d1bcf5b",
   "metadata": {},
   "outputs": [],
   "source": [
    "import numpy as np\n",
    "import tensorflow.compat.v1 as tf\n",
    "tf.disable_v2_behavior()\n",
    "import matplotlib.pyplot as plt"
   ]
  },
  {
   "cell_type": "code",
   "execution_count": 17,
   "id": "3c3d78ac",
   "metadata": {},
   "outputs": [],
   "source": [
    "def generate_dataset():\n",
    " x_batch = np.linspace(0, 2, 100)\n",
    " y_batch = 1.5 * x_batch + np.random.randn(*x_batch.shape) * 0.2 + 0.5\n",
    " return x_batch, y_batch"
   ]
  },
  {
   "cell_type": "code",
   "execution_count": 18,
   "id": "74a0ef5e",
   "metadata": {},
   "outputs": [],
   "source": [
    "def linear_regression():\n",
    "  x = tf.placeholder(tf.float32, shape=(None, ), name='x')\n",
    "  y = tf.placeholder(tf.float32, shape=(None, ), name='y')\n",
    "\n",
    "  with tf.variable_scope('lreg') as scope:\n",
    "    w = tf.Variable(np.random.normal(), name='W')\n",
    "    b = tf.Variable(np.random.normal(), name='b')\n",
    "\n",
    "    y_pred = tf.add(tf.multiply(w, x), b)\n",
    "\n",
    "    loss = tf.reduce_mean(tf.square(y_pred - y))\n",
    "\n",
    "  return x, y, y_pred, loss"
   ]
  },
  {
   "cell_type": "code",
   "execution_count": 19,
   "id": "ed23e757",
   "metadata": {},
   "outputs": [],
   "source": [
    "def run():\n",
    "  x_batch, y_batch = generate_dataset()\n",
    "  x, y, y_pred, loss = linear_regression()\n",
    "\n",
    "  optimizer = tf.train.GradientDescentOptimizer(0.1)\n",
    "  train_op = optimizer.minimize(loss)\n",
    "\n",
    "  with tf.Session() as session:\n",
    "    session.run(tf.global_variables_initializer())\n",
    "    feed_dict = {x: x_batch, y: y_batch}\n",
    "\n",
    "    for i in range(30):\n",
    "      session.run(train_op, feed_dict)\n",
    "      print(i, \"loss:\", loss.eval(feed_dict))\n",
    "\n",
    "    print('Predicting')\n",
    "    y_pred_batch = session.run(y_pred, {x : x_batch})\n",
    "\n",
    "  plt.scatter(x_batch, y_batch)\n",
    "  plt.plot(x_batch, y_pred_batch, color='red')\n",
    "  plt.xlim(0, 2)\n",
    "  plt.ylim(0, 2)"
   ]
  },
  {
   "cell_type": "code",
   "execution_count": 20,
   "id": "65dc828e",
   "metadata": {},
   "outputs": [
    {
     "name": "stdout",
     "output_type": "stream",
     "text": [
      "0 loss: 1.505339\n",
      "1 loss: 0.5196455\n",
      "2 loss: 0.20624565\n",
      "3 loss: 0.10608574\n",
      "4 loss: 0.073593505\n",
      "5 loss: 0.06260402\n",
      "6 loss: 0.05847522\n",
      "7 loss: 0.05656148\n",
      "8 loss: 0.055387206\n",
      "9 loss: 0.05448219\n",
      "10 loss: 0.05369523\n",
      "11 loss: 0.05297636\n",
      "12 loss: 0.052307833\n",
      "13 loss: 0.05168229\n",
      "14 loss: 0.051095735\n",
      "15 loss: 0.05054533\n",
      "16 loss: 0.050028726\n",
      "17 loss: 0.04954382\n",
      "18 loss: 0.04908865\n",
      "19 loss: 0.048661385\n",
      "20 loss: 0.048260298\n",
      "21 loss: 0.047883805\n",
      "22 loss: 0.0475304\n",
      "23 loss: 0.047198657\n",
      "24 loss: 0.046887245\n",
      "25 loss: 0.046594933\n",
      "26 loss: 0.046320524\n",
      "27 loss: 0.046062957\n",
      "28 loss: 0.04582116\n",
      "29 loss: 0.0455942\n",
      "Predicting\n"
     ]
    },
    {
     "data": {
      "image/png": "[encoded data removed]",
      "text/plain": [
       "<Figure size 432x288 with 1 Axes>"
      ]
     },
     "metadata": {
      "needs_background": "light"
     },
     "output_type": "display_data"
    }
   ],
   "source": [
    "run()"
   ]
  },
  {
   "cell_type": "code",
   "execution_count": null,
   "id": "72e02d35",
   "metadata": {},
   "outputs": [],
   "source": []
  }
 ],
 "metadata": {
  "kernelspec": {
   "display_name": "Python 3",
   "language": "python",
   "name": "python3"
  },
  "language_info": {
   "codemirror_mode": {
    "name": "ipython",
    "version": 3
   },
   "file_extension": ".py",
   "mimetype": "text/x-python",
   "name": "python",
   "nbconvert_exporter": "python",
   "pygments_lexer": "ipython3",
   "version": "3.8.8"
  }
 },
 "nbformat": 4,
 "nbformat_minor": 5
}
