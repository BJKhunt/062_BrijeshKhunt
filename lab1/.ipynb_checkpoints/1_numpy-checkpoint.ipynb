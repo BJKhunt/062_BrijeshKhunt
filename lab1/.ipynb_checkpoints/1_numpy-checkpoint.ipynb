{
 "cells": [
  {
   "cell_type": "code",
   "execution_count": 2,
   "id": "10957106",
   "metadata": {},
   "outputs": [],
   "source": [
    "import numpy as np\n",
    "import pandas as pd"
   ]
  },
  {
   "cell_type": "code",
   "execution_count": 6,
   "id": "9c6b6fb5",
   "metadata": {},
   "outputs": [
    {
     "name": "stdout",
     "output_type": "stream",
     "text": [
      "[[1 2 3]\n",
      " [2 4 6]]\n",
      "[[ 4 -1]\n",
      " [-5 -8]\n",
      " [ 4  5]]\n"
     ]
    }
   ],
   "source": [
    "arr1 = np.array([[1,2,3],[2,4,6]])\n",
    "arr2 = np.array([[4,-1],[-5, -8],[4,5]])\n",
    "print(arr1)\n",
    "print(arr2)"
   ]
  },
  {
   "cell_type": "code",
   "execution_count": 5,
   "id": "d406c36d",
   "metadata": {},
   "outputs": [
    {
     "name": "stdout",
     "output_type": "stream",
     "text": [
      "[[0.65646532 0.36589494]\n",
      " [0.91617219 0.28319272]]\n"
     ]
    }
   ],
   "source": [
    "randomarray = np.random.rand(2,2)\n",
    "print(randomarray)"
   ]
  },
  {
   "cell_type": "code",
   "execution_count": 8,
   "id": "d1adbe3b",
   "metadata": {},
   "outputs": [
    {
     "name": "stdout",
     "output_type": "stream",
     "text": [
      "[[ 6 -2]\n",
      " [12 -4]]\n",
      "[[ 6 -2]\n",
      " [12 -4]]\n"
     ]
    }
   ],
   "source": [
    "flavor1 = np.dot(arr1, arr2)\n",
    "print(flavor1)\n",
    "flavor3 = arr1 @ arr2\n",
    "print(flavor3)"
   ]
  },
  {
   "cell_type": "code",
   "execution_count": 16,
   "id": "4a78c309",
   "metadata": {},
   "outputs": [
    {
     "name": "stdout",
     "output_type": "stream",
     "text": [
      "[[ 6. -2.]\n",
      " [12. -4.]]\n"
     ]
    }
   ],
   "source": [
    "res = np.zeros((arr1.shape[0], arr2.shape[1]))\n",
    "\n",
    "for i in range(len(arr1)): \n",
    "  for j in range(len(arr2[0])): \n",
    "    for k in range(len(arr2)): \n",
    "      res[i][j] += arr1[i][k] * arr2[k][j]\n",
    " \n",
    "print(res)"
   ]
  },
  {
   "cell_type": "code",
   "execution_count": 17,
   "id": "35ae4b23",
   "metadata": {},
   "outputs": [
    {
     "name": "stdout",
     "output_type": "stream",
     "text": [
      "3.0\n"
     ]
    }
   ],
   "source": [
    "meanarr1 = np.mean(arr1)\n",
    "print(meanarr1)"
   ]
  },
  {
   "cell_type": "code",
   "execution_count": 28,
   "id": "ae5e1656",
   "metadata": {},
   "outputs": [
    {
     "name": "stdout",
     "output_type": "stream",
     "text": [
      "        mpg     cyl        disp       hp      drat       wt     qsec      vs  \\\n",
      "0  0.909375 -0.1875  -70.721875 -36.6875  0.303437 -0.59725 -1.38875 -0.4375   \n",
      "1  0.909375 -0.1875  -70.721875 -36.6875  0.303437 -0.34225 -0.82875 -0.4375   \n",
      "2  2.709375 -2.1875 -122.721875 -53.6875  0.253437 -0.89725  0.76125  0.5625   \n",
      "3  1.309375 -0.1875   27.278125 -36.6875 -0.516563 -0.00225  1.59125  0.5625   \n",
      "4 -1.390625  1.8125  129.278125  28.3125 -0.446563  0.22275 -0.82875 -0.4375   \n",
      "\n",
      "        am    gear    carb  \n",
      "0  0.59375  0.3125  1.1875  \n",
      "1  0.59375  0.3125  1.1875  \n",
      "2  0.59375  0.3125 -1.8125  \n",
      "3 -0.40625 -0.6875 -1.8125  \n",
      "4 -0.40625 -0.6875 -0.8125  \n"
     ]
    }
   ],
   "source": [
    "data = pd.read_csv(r\"C:\\Users\\brijesh\\Downloads\\062_BrijeshKhunt\\lab1\\mtcars.csv\")\n",
    "del data['model']\n",
    "meancenter = data.apply(lambda e: e - e.mean())\n",
    "print(meancenter.head())"
   ]
  },
  {
   "cell_type": "code",
   "execution_count": null,
   "id": "d97b0ac8",
   "metadata": {},
   "outputs": [],
   "source": []
  }
 ],
 "metadata": {
  "kernelspec": {
   "display_name": "Python 3",
   "language": "python",
   "name": "python3"
  },
  "language_info": {
   "codemirror_mode": {
    "name": "ipython",
    "version": 3
   },
   "file_extension": ".py",
   "mimetype": "text/x-python",
   "name": "python",
   "nbconvert_exporter": "python",
   "pygments_lexer": "ipython3",
   "version": "3.8.8"
  }
 },
 "nbformat": 4,
 "nbformat_minor": 5
}
