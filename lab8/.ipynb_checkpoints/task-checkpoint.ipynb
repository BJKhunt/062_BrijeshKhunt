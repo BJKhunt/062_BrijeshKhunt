{
 "cells": [
  {
   "cell_type": "code",
   "execution_count": 15,
   "id": "225bca0e",
   "metadata": {},
   "outputs": [
    {
     "data": {
      "text/plain": [
       "(569, 30)"
      ]
     },
     "execution_count": 15,
     "metadata": {},
     "output_type": "execute_result"
    }
   ],
   "source": [
    "import pandas as pd\n",
    "import numpy as np\n",
    "from scipy.stats import mode\n",
    "import matplotlib.pyplot as plt\n",
    "from sklearn.datasets import load_breast_cancer\n",
    "data = load_breast_cancer()\n",
    "data.data.shape"
   ]
  },
  {
   "cell_type": "code",
   "execution_count": 16,
   "id": "d056b85f",
   "metadata": {},
   "outputs": [
    {
     "name": "stdout",
     "output_type": "stream",
     "text": [
      "{'data': array([[1.799e+01, 1.038e+01, 1.228e+02, ..., 2.654e-01, 4.601e-01,\n",
      "        1.189e-01],\n",
      "       [2.057e+01, 1.777e+01, 1.329e+02, ..., 1.860e-01, 2.750e-01,\n",
      "        8.902e-02],\n",
      "       [1.969e+01, 2.125e+01, 1.300e+02, ..., 2.430e-01, 3.613e-01,\n",
      "        8.758e-02],\n",
      "       ...,\n",
      "       [1.660e+01, 2.808e+01, 1.083e+02, ..., 1.418e-01, 2.218e-01,\n",
      "        7.820e-02],\n",
      "       [2.060e+01, 2.933e+01, 1.401e+02, ..., 2.650e-01, 4.087e-01,\n",
      "        1.240e-01],\n",
      "       [7.760e+00, 2.454e+01, 4.792e+01, ..., 0.000e+00, 2.871e-01,\n",
      "        7.039e-02]]), 'target': array([0, 0, 0, 0, 0, 0, 0, 0, 0, 0, 0, 0, 0, 0, 0, 0, 0, 0, 0, 1, 1, 1,\n",
      "       0, 0, 0, 0, 0, 0, 0, 0, 0, 0, 0, 0, 0, 0, 0, 1, 0, 0, 0, 0, 0, 0,\n",
      "       0, 0, 1, 0, 1, 1, 1, 1, 1, 0, 0, 1, 0, 0, 1, 1, 1, 1, 0, 1, 0, 0,\n",
      "       1, 1, 1, 1, 0, 1, 0, 0, 1, 0, 1, 0, 0, 1, 1, 1, 0, 0, 1, 0, 0, 0,\n",
      "       1, 1, 1, 0, 1, 1, 0, 0, 1, 1, 1, 0, 0, 1, 1, 1, 1, 0, 1, 1, 0, 1,\n",
      "       1, 1, 1, 1, 1, 1, 1, 0, 0, 0, 1, 0, 0, 1, 1, 1, 0, 0, 1, 0, 1, 0,\n",
      "       0, 1, 0, 0, 1, 1, 0, 1, 1, 0, 1, 1, 1, 1, 0, 1, 1, 1, 1, 1, 1, 1,\n",
      "       1, 1, 0, 1, 1, 1, 1, 0, 0, 1, 0, 1, 1, 0, 0, 1, 1, 0, 0, 1, 1, 1,\n",
      "       1, 0, 1, 1, 0, 0, 0, 1, 0, 1, 0, 1, 1, 1, 0, 1, 1, 0, 0, 1, 0, 0,\n",
      "       0, 0, 1, 0, 0, 0, 1, 0, 1, 0, 1, 1, 0, 1, 0, 0, 0, 0, 1, 1, 0, 0,\n",
      "       1, 1, 1, 0, 1, 1, 1, 1, 1, 0, 0, 1, 1, 0, 1, 1, 0, 0, 1, 0, 1, 1,\n",
      "       1, 1, 0, 1, 1, 1, 1, 1, 0, 1, 0, 0, 0, 0, 0, 0, 0, 0, 0, 0, 0, 0,\n",
      "       0, 0, 1, 1, 1, 1, 1, 1, 0, 1, 0, 1, 1, 0, 1, 1, 0, 1, 0, 0, 1, 1,\n",
      "       1, 1, 1, 1, 1, 1, 1, 1, 1, 1, 1, 0, 1, 1, 0, 1, 0, 1, 1, 1, 1, 1,\n",
      "       1, 1, 1, 1, 1, 1, 1, 1, 1, 0, 1, 1, 1, 0, 1, 0, 1, 1, 1, 1, 0, 0,\n",
      "       0, 1, 1, 1, 1, 0, 1, 0, 1, 0, 1, 1, 1, 0, 1, 1, 1, 1, 1, 1, 1, 0,\n",
      "       0, 0, 1, 1, 1, 1, 1, 1, 1, 1, 1, 1, 1, 0, 0, 1, 0, 0, 0, 1, 0, 0,\n",
      "       1, 1, 1, 1, 1, 0, 1, 1, 1, 1, 1, 0, 1, 1, 1, 0, 1, 1, 0, 0, 1, 1,\n",
      "       1, 1, 1, 1, 0, 1, 1, 1, 1, 1, 1, 1, 0, 1, 1, 1, 1, 1, 0, 1, 1, 0,\n",
      "       1, 1, 1, 1, 1, 1, 1, 1, 1, 1, 1, 1, 0, 1, 0, 0, 1, 0, 1, 1, 1, 1,\n",
      "       1, 0, 1, 1, 0, 1, 0, 1, 1, 0, 1, 0, 1, 1, 1, 1, 1, 1, 1, 1, 0, 0,\n",
      "       1, 1, 1, 1, 1, 1, 0, 1, 1, 1, 1, 1, 1, 1, 1, 1, 1, 0, 1, 1, 1, 1,\n",
      "       1, 1, 1, 0, 1, 0, 1, 1, 0, 1, 1, 1, 1, 1, 0, 0, 1, 0, 1, 0, 1, 1,\n",
      "       1, 1, 1, 0, 1, 1, 0, 1, 0, 1, 0, 0, 1, 1, 1, 0, 1, 1, 1, 1, 1, 1,\n",
      "       1, 1, 1, 1, 1, 0, 1, 0, 0, 1, 1, 1, 1, 1, 1, 1, 1, 1, 1, 1, 1, 1,\n",
      "       1, 1, 1, 1, 1, 1, 1, 1, 1, 1, 1, 1, 0, 0, 0, 0, 0, 0, 1]), 'frame': None, 'target_names': array(['malignant', 'benign'], dtype='<U9'), 'DESCR': '.. _breast_cancer_dataset:\\n\\nBreast cancer wisconsin (diagnostic) dataset\\n--------------------------------------------\\n\\n**Data Set Characteristics:**\\n\\n    :Number of Instances: 569\\n\\n    :Number of Attributes: 30 numeric, predictive attributes and the class\\n\\n    :Attribute Information:\\n        - radius (mean of distances from center to points on the perimeter)\\n        - texture (standard deviation of gray-scale values)\\n        - perimeter\\n        - area\\n        - smoothness (local variation in radius lengths)\\n        - compactness (perimeter^2 / area - 1.0)\\n        - concavity (severity of concave portions of the contour)\\n        - concave points (number of concave portions of the contour)\\n        - symmetry\\n        - fractal dimension (\"coastline approximation\" - 1)\\n\\n        The mean, standard error, and \"worst\" or largest (mean of the three\\n        worst/largest values) of these features were computed for each image,\\n        resulting in 30 features.  For instance, field 0 is Mean Radius, field\\n        10 is Radius SE, field 20 is Worst Radius.\\n\\n        - class:\\n                - WDBC-Malignant\\n                - WDBC-Benign\\n\\n    :Summary Statistics:\\n\\n    ===================================== ====== ======\\n                                           Min    Max\\n    ===================================== ====== ======\\n    radius (mean):                        6.981  28.11\\n    texture (mean):                       9.71   39.28\\n    perimeter (mean):                     43.79  188.5\\n    area (mean):                          143.5  2501.0\\n    smoothness (mean):                    0.053  0.163\\n    compactness (mean):                   0.019  0.345\\n    concavity (mean):                     0.0    0.427\\n    concave points (mean):                0.0    0.201\\n    symmetry (mean):                      0.106  0.304\\n    fractal dimension (mean):             0.05   0.097\\n    radius (standard error):              0.112  2.873\\n    texture (standard error):             0.36   4.885\\n    perimeter (standard error):           0.757  21.98\\n    area (standard error):                6.802  542.2\\n    smoothness (standard error):          0.002  0.031\\n    compactness (standard error):         0.002  0.135\\n    concavity (standard error):           0.0    0.396\\n    concave points (standard error):      0.0    0.053\\n    symmetry (standard error):            0.008  0.079\\n    fractal dimension (standard error):   0.001  0.03\\n    radius (worst):                       7.93   36.04\\n    texture (worst):                      12.02  49.54\\n    perimeter (worst):                    50.41  251.2\\n    area (worst):                         185.2  4254.0\\n    smoothness (worst):                   0.071  0.223\\n    compactness (worst):                  0.027  1.058\\n    concavity (worst):                    0.0    1.252\\n    concave points (worst):               0.0    0.291\\n    symmetry (worst):                     0.156  0.664\\n    fractal dimension (worst):            0.055  0.208\\n    ===================================== ====== ======\\n\\n    :Missing Attribute Values: None\\n\\n    :Class Distribution: 212 - Malignant, 357 - Benign\\n\\n    :Creator:  Dr. William H. Wolberg, W. Nick Street, Olvi L. Mangasarian\\n\\n    :Donor: Nick Street\\n\\n    :Date: November, 1995\\n\\nThis is a copy of UCI ML Breast Cancer Wisconsin (Diagnostic) datasets.\\nhttps://goo.gl/U2Uwz2\\n\\nFeatures are computed from a digitized image of a fine needle\\naspirate (FNA) of a breast mass.  They describe\\ncharacteristics of the cell nuclei present in the image.\\n\\nSeparating plane described above was obtained using\\nMultisurface Method-Tree (MSM-T) [K. P. Bennett, \"Decision Tree\\nConstruction Via Linear Programming.\" Proceedings of the 4th\\nMidwest Artificial Intelligence and Cognitive Science Society,\\npp. 97-101, 1992], a classification method which uses linear\\nprogramming to construct a decision tree.  Relevant features\\nwere selected using an exhaustive search in the space of 1-4\\nfeatures and 1-3 separating planes.\\n\\nThe actual linear program used to obtain the separating plane\\nin the 3-dimensional space is that described in:\\n[K. P. Bennett and O. L. Mangasarian: \"Robust Linear\\nProgramming Discrimination of Two Linearly Inseparable Sets\",\\nOptimization Methods and Software 1, 1992, 23-34].\\n\\nThis database is also available through the UW CS ftp server:\\n\\nftp ftp.cs.wisc.edu\\ncd math-prog/cpo-dataset/machine-learn/WDBC/\\n\\n.. topic:: References\\n\\n   - W.N. Street, W.H. Wolberg and O.L. Mangasarian. Nuclear feature extraction \\n     for breast tumor diagnosis. IS&T/SPIE 1993 International Symposium on \\n     Electronic Imaging: Science and Technology, volume 1905, pages 861-870,\\n     San Jose, CA, 1993.\\n   - O.L. Mangasarian, W.N. Street and W.H. Wolberg. Breast cancer diagnosis and \\n     prognosis via linear programming. Operations Research, 43(4), pages 570-577, \\n     July-August 1995.\\n   - W.H. Wolberg, W.N. Street, and O.L. Mangasarian. Machine learning techniques\\n     to diagnose breast cancer from fine-needle aspirates. Cancer Letters 77 (1994) \\n     163-171.', 'feature_names': array(['mean radius', 'mean texture', 'mean perimeter', 'mean area',\n",
      "       'mean smoothness', 'mean compactness', 'mean concavity',\n",
      "       'mean concave points', 'mean symmetry', 'mean fractal dimension',\n",
      "       'radius error', 'texture error', 'perimeter error', 'area error',\n",
      "       'smoothness error', 'compactness error', 'concavity error',\n",
      "       'concave points error', 'symmetry error',\n",
      "       'fractal dimension error', 'worst radius', 'worst texture',\n",
      "       'worst perimeter', 'worst area', 'worst smoothness',\n",
      "       'worst compactness', 'worst concavity', 'worst concave points',\n",
      "       'worst symmetry', 'worst fractal dimension'], dtype='<U23'), 'filename': 'C:\\\\Users\\\\brijesh\\\\anaconda3\\\\lib\\\\site-packages\\\\sklearn\\\\datasets\\\\data\\\\breast_cancer.csv'}\n"
     ]
    }
   ],
   "source": [
    "print(data)"
   ]
  },
  {
   "cell_type": "code",
   "execution_count": 17,
   "id": "89647206",
   "metadata": {},
   "outputs": [
    {
     "name": "stdout",
     "output_type": "stream",
     "text": [
      "[1 1 1 0 1 6 9 2 6 6 5 5 9 2 6 2 5 5 8 6 6 7 2 8 8 9 2 9 5 5 9 6 5 1 5 5 2\n",
      " 0 6 6 6 0 9 2 6 9 7 6 0 6 0 6 0 9 2 0 8 2 6 7 7 7 2 7 2 2 7 0 7 0 1 7 9 6\n",
      " 0 5 6 9 1 6 0 6 4 9 0 9 2 9 0 2 2 2 6 6 2 1 0 7 0 2 2 7 0 7 7 6 0 0 8 0 7\n",
      " 0 6 7 7 0 7 2 5 5 0 9 8 6 6 6 2 9 2 9 0 5 5 2 9 6 0 0 2 0 7 5 0 6 0 0 0 2\n",
      " 6 6 6 7 7 0 6 0 5 5 0 0 0 9 8 0 8 2 7 5 9 2 0 2 5 7 7 7 7 2 6 0 4 8 5 0 2\n",
      " 7 9 0 0 0 6 0 7 6 2 6 6 5 1 2 6 5 8 5 6 2 7 5 6 2 1 0 4 5 2 6 0 7 1 8 6 6\n",
      " 7 5 6 2 7 2 6 6 5 0 0 1 7 6 4 1 6 9 6 0 0 6 9 7 6 6 0 0 8 0 1 5 1 2 1 2 5\n",
      " 2 1 5 5 2 9 4 7 6 6 7 6 0 8 7 5 0 0 5 6 6 1 0 9 2 6 0 0 0 0 0 6 2 0 0 0 6\n",
      " 7 0 2 7 8 0 1 7 0 0 6 7 6 6 0 2 6 0 7 0 0 9 7 0 7 1 0 1 0 0 6 0 5 2 5 6 0\n",
      " 0 0 5 0 1 7 4 2 7 0 9 0 7 0 2 0 0 0 2 4 2 0 0 0 6 7 7 0 6 0 2 6 1 1 0 4 8\n",
      " 5 2 1 1 6 2 7 6 6 0 0 0 0 0 6 6 0 6 0 9 7 7 5 8 0 6 6 0 0 0 5 0 6 0 0 0 2\n",
      " 6 9 0 0 0 7 2 2 0 7 9 0 0 0 2 0 6 7 7 7 0 0 0 2 0 9 9 2 2 6 6 6 6 0 5 6 7\n",
      " 5 0 9 2 2 8 0 9 0 6 6 6 0 6 6 7 9 3 6 0 6 6 6 7 9 0 7 0 2 0 7 6 2 6 0 2 0\n",
      " 2 6 6 2 0 2 1 0 5 0 5 9 0 6 2 6 0 9 1 2 6 0 4 7 7 0 7 2 2 0 2 2 2 2 0 9 1\n",
      " 6 6 7 4 0 6 7 7 6 0 6 0 0 0 6 1 7 1 6 0 7 7 0 2 2 6 6 6 7 7 7 0 7 0 0 7 6\n",
      " 7 7 7 6 0 6 0 2 1 8 1 5 1 7]\n",
      "[[1.18645395e+01 1.80007237e+01 7.61786842e+01 4.33084868e+02\n",
      "  9.34255921e-02 7.76292105e-02 4.28151099e-02 2.48791974e-02\n",
      "  1.74315132e-01 6.26659868e-02 2.76834868e-01 1.25594934e+00\n",
      "  1.96245461e+00 2.01443158e+01 7.09844737e-03 2.02302105e-02\n",
      "  2.32756816e-02 9.85025000e-03 2.10058553e-02 3.30756711e-03\n",
      "  1.30674342e+01 2.40780921e+01 8.48729605e+01 5.22253947e+02\n",
      "  1.27199276e-01 1.80414211e-01 1.60686349e-01 7.48417237e-02\n",
      "  2.76061184e-01 7.90770395e-02]\n",
      " [2.00158824e+01 2.19882353e+01 1.32602941e+02 1.24220588e+03\n",
      "  9.97102941e-02 1.54390000e-01 1.82406176e-01 1.03715294e-01\n",
      "  1.94129412e-01 6.07008824e-02 7.03305882e-01 1.16725588e+00\n",
      "  5.04376471e+00 8.73623529e+01 6.36876471e-03 3.21755882e-02\n",
      "  4.31494118e-02 1.59570000e-02 2.09988235e-02 3.84232353e-03\n",
      "  2.42388235e+01 2.90376471e+01 1.62782353e+02 1.78682353e+03\n",
      "  1.38641176e-01 3.78023529e-01 4.64623529e-01 1.97467647e-01\n",
      "  3.20432353e-01 8.74920588e-02]\n",
      " [1.48736709e+01 1.96689873e+01 9.72568354e+01 6.83649367e+02\n",
      "  9.75450633e-02 1.18017215e-01 1.03723418e-01 5.63624051e-02\n",
      "  1.84191139e-01 6.21486076e-02 3.55546835e-01 1.02951392e+00\n",
      "  2.58581013e+00 3.24393671e+01 6.16944304e-03 2.66284684e-02\n",
      "  3.31473291e-02 1.26582785e-02 1.92547595e-02 3.41859241e-03\n",
      "  1.70448101e+01 2.63654430e+01 1.13453165e+02 8.89526582e+02\n",
      "  1.34913291e-01 3.11065570e-01 3.42528228e-01 1.39282152e-01\n",
      "  3.02994937e-01 8.66436709e-02]\n",
      " [2.74200000e+01 2.62700000e+01 1.86900000e+02 2.50100000e+03\n",
      "  1.08400000e-01 1.98800000e-01 3.63500000e-01 1.68900000e-01\n",
      "  2.06100000e-01 5.62300000e-02 2.54700000e+00 1.30600000e+00\n",
      "  1.86500000e+01 5.42200000e+02 7.65000000e-03 5.37400000e-02\n",
      "  8.05500000e-02 2.59800000e-02 1.69700000e-02 4.55800000e-03\n",
      "  3.60400000e+01 3.13700000e+01 2.51200000e+02 4.25400000e+03\n",
      "  1.35700000e-01 4.25600000e-01 6.83300000e-01 2.62500000e-01\n",
      "  2.64100000e-01 7.42700000e-02]\n",
      " [2.43160000e+01 2.23750000e+01 1.61910000e+02 1.85420000e+03\n",
      "  1.03174000e-01 1.68032000e-01 2.35580000e-01 1.40631000e-01\n",
      "  1.79210000e-01 5.89640000e-02 1.23297000e+00 1.14835000e+00\n",
      "  8.82800000e+00 1.99120000e+02 6.61970000e-03 2.92370000e-02\n",
      "  3.93590000e-02 1.50810000e-02 1.95370000e-02 3.44310000e-03\n",
      "  3.09990000e+01 2.98160000e+01 2.08940000e+02 2.93600000e+03\n",
      "  1.40180000e-01 3.64520000e-01 4.68620000e-01 2.28060000e-01\n",
      "  2.76880000e-01 8.10070000e-02]\n",
      " [1.66343182e+01 2.05413636e+01 1.09122727e+02 8.63863636e+02\n",
      "  9.89429545e-02 1.23876136e-01 1.27467955e-01 7.25738636e-02\n",
      "  1.85695455e-01 6.00759091e-02 5.11725000e-01 1.17202500e+00\n",
      "  3.57479545e+00 5.41975000e+01 6.71338636e-03 2.77489773e-02\n",
      "  3.69856818e-02 1.35685455e-02 1.85859091e-02 3.50745455e-03\n",
      "  1.98686364e+01 2.83802273e+01 1.31688636e+02 1.21675000e+03\n",
      "  1.40195000e-01 3.19662727e-01 3.83927273e-01 1.58605682e-01\n",
      "  3.18236364e-01 8.47138636e-02]\n",
      " [1.34401754e+01 1.88839474e+01 8.69728947e+01 5.57584211e+02\n",
      "  9.27493860e-02 9.32246491e-02 6.41696053e-02 3.53957193e-02\n",
      "  1.73468421e-01 6.16666667e-02 2.91575439e-01 1.08603158e+00\n",
      "  2.05825351e+00 2.42477193e+01 5.83065789e-03 2.31070614e-02\n",
      "  2.72715175e-02 1.01278333e-02 1.78727368e-02 3.50204649e-03\n",
      "  1.50050000e+01 2.51785088e+01 9.84330702e+01 6.91112281e+02\n",
      "  1.26718246e-01 2.46547807e-01 2.43349491e-01 9.94806930e-02\n",
      "  2.82093860e-01 8.36747368e-02]\n",
      " [9.68998734e+00 1.76962025e+01 6.19331646e+01 2.87912658e+02\n",
      "  9.72683544e-02 8.26591139e-02 4.68458101e-02 1.86377722e-02\n",
      "  1.84582278e-01 6.93812658e-02 3.01496203e-01 1.51689873e+00\n",
      "  2.07436329e+00 1.79974937e+01 1.02491519e-02 2.63216329e-02\n",
      "  3.51835316e-02 1.03417595e-02 2.57197468e-02 5.29015190e-03\n",
      "  1.06513797e+01 2.27577215e+01 6.86641772e+01 3.46643038e+02\n",
      "  1.33207975e-01 1.68758987e-01 1.46948734e-01 5.31982278e-02\n",
      "  2.72775949e-01 8.71296203e-02]\n",
      " [2.10344444e+01 2.23027778e+01 1.40083333e+02 1.38520000e+03\n",
      "  1.07590556e-01 1.71383333e-01 2.29533333e-01 1.25373889e-01\n",
      "  1.96161111e-01 6.11827778e-02 8.77011111e-01 1.22351667e+00\n",
      "  6.10694444e+00 1.20189444e+02 6.86916667e-03 3.70794444e-02\n",
      "  5.24883333e-02 1.63344444e-02 1.90444444e-02 4.04333333e-03\n",
      "  2.68150000e+01 2.99322222e+01 1.79777778e+02 2.21094444e+03\n",
      "  1.46622222e-01 4.12144444e-01 5.62061111e-01 2.27061111e-01\n",
      "  3.17122222e-01 8.78872222e-02]\n",
      " [1.84384211e+01 2.18997368e+01 1.21655263e+02 1.05956316e+03\n",
      "  1.01163421e-01 1.42776579e-01 1.61771316e-01 9.32031579e-02\n",
      "  1.94121053e-01 6.13531579e-02 6.90178947e-01 1.32743421e+00\n",
      "  4.84384211e+00 8.12971053e+01 6.74131579e-03 3.35879211e-02\n",
      "  4.18197368e-02 1.66532632e-02 2.15347368e-02 4.54184211e-03\n",
      "  2.22450000e+01 2.88176316e+01 1.47810526e+02 1.51381579e+03\n",
      "  1.39392105e-01 3.37734211e-01 4.17468421e-01 1.83302632e-01\n",
      "  3.10760526e-01 8.71052632e-02]]\n"
     ]
    }
   ],
   "source": [
    "from sklearn.cluster import KMeans\n",
    "kmeans = KMeans(n_clusters=10, random_state=11)\n",
    "prediction = kmeans.fit_predict(data.data)\n",
    "print(prediction)\n",
    "\n",
    "kmeans.cluster_centers_.shape\n",
    "print(kmeans.cluster_centers_)"
   ]
  },
  {
   "cell_type": "code",
   "execution_count": 18,
   "id": "d7bfeb0e",
   "metadata": {},
   "outputs": [
    {
     "data": {
      "image/png": "[encoded data removed]",
      "text/plain": [
       "<Figure size 576x216 with 10 Axes>"
      ]
     },
     "metadata": {},
     "output_type": "display_data"
    }
   ],
   "source": [
    "# Scatter plot of the data points\n",
    "fig, ax = plt.subplots(2, 5, figsize=(8, 3))\n",
    "centers = kmeans.cluster_centers_.reshape(10, 6, 5)\n",
    "for axi, center in zip(ax.flat, centers):\n",
    "  axi.set(xticks=[], yticks=[])\n",
    "  axi.imshow(center, interpolation='nearest', cmap=plt.cm.binary)"
   ]
  },
  {
   "cell_type": "code",
   "execution_count": 19,
   "id": "b9f91ffe",
   "metadata": {},
   "outputs": [],
   "source": [
    "labels = np.zeros_like(prediction)\n",
    "for i in range(10):\n",
    "  mask = (prediction == i)\n",
    "  labels[mask] = mode(data.target[mask])[0]"
   ]
  },
  {
   "cell_type": "code",
   "execution_count": 20,
   "id": "0b7a52cc",
   "metadata": {},
   "outputs": [
    {
     "data": {
      "text/plain": [
       "0.8875219683655536"
      ]
     },
     "execution_count": 20,
     "metadata": {},
     "output_type": "execute_result"
    }
   ],
   "source": [
    "from sklearn.metrics import accuracy_score\n",
    "accuracy_score(data.target, labels)"
   ]
  },
  {
   "cell_type": "code",
   "execution_count": null,
   "id": "24f787bb",
   "metadata": {},
   "outputs": [],
   "source": []
  }
 ],
 "metadata": {
  "kernelspec": {
   "display_name": "Python 3",
   "language": "python",
   "name": "python3"
  },
  "language_info": {
   "codemirror_mode": {
    "name": "ipython",
    "version": 3
   },
   "file_extension": ".py",
   "mimetype": "text/x-python",
   "name": "python",
   "nbconvert_exporter": "python",
   "pygments_lexer": "ipython3",
   "version": "3.8.8"
  }
 },
 "nbformat": 4,
 "nbformat_minor": 5
}
