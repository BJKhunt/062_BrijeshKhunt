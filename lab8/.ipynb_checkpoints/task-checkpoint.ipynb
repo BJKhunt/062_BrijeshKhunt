{
 "cells": [
  {
   "cell_type": "code",
   "execution_count": 1,
   "id": "225bca0e",
   "metadata": {},
   "outputs": [
    {
     "data": {
      "text/plain": [
       "(569, 30)"
      ]
     },
     "execution_count": 1,
     "metadata": {},
     "output_type": "execute_result"
    }
   ],
   "source": [
    "import pandas as pd\n",
    "import numpy as np\n",
    "from scipy.stats import mode\n",
    "import matplotlib.pyplot as plt\n",
    "from sklearn.datasets import load_breast_cancer\n",
    "data = load_breast_cancer()\n",
    "data.data.shape"
   ]
  },
  {
   "cell_type": "code",
   "execution_count": 2,
   "id": "d056b85f",
   "metadata": {},
   "outputs": [
    {
     "name": "stdout",
     "output_type": "stream",
     "text": [
      "{'data': array([[1.799e+01, 1.038e+01, 1.228e+02, ..., 2.654e-01, 4.601e-01,\n",
      "        1.189e-01],\n",
      "       [2.057e+01, 1.777e+01, 1.329e+02, ..., 1.860e-01, 2.750e-01,\n",
      "        8.902e-02],\n",
      "       [1.969e+01, 2.125e+01, 1.300e+02, ..., 2.430e-01, 3.613e-01,\n",
      "        8.758e-02],\n",
      "       ...,\n",
      "       [1.660e+01, 2.808e+01, 1.083e+02, ..., 1.418e-01, 2.218e-01,\n",
      "        7.820e-02],\n",
      "       [2.060e+01, 2.933e+01, 1.401e+02, ..., 2.650e-01, 4.087e-01,\n",
      "        1.240e-01],\n",
      "       [7.760e+00, 2.454e+01, 4.792e+01, ..., 0.000e+00, 2.871e-01,\n",
      "        7.039e-02]]), 'target': array([0, 0, 0, 0, 0, 0, 0, 0, 0, 0, 0, 0, 0, 0, 0, 0, 0, 0, 0, 1, 1, 1,\n",
      "       0, 0, 0, 0, 0, 0, 0, 0, 0, 0, 0, 0, 0, 0, 0, 1, 0, 0, 0, 0, 0, 0,\n",
      "       0, 0, 1, 0, 1, 1, 1, 1, 1, 0, 0, 1, 0, 0, 1, 1, 1, 1, 0, 1, 0, 0,\n",
      "       1, 1, 1, 1, 0, 1, 0, 0, 1, 0, 1, 0, 0, 1, 1, 1, 0, 0, 1, 0, 0, 0,\n",
      "       1, 1, 1, 0, 1, 1, 0, 0, 1, 1, 1, 0, 0, 1, 1, 1, 1, 0, 1, 1, 0, 1,\n",
      "       1, 1, 1, 1, 1, 1, 1, 0, 0, 0, 1, 0, 0, 1, 1, 1, 0, 0, 1, 0, 1, 0,\n",
      "       0, 1, 0, 0, 1, 1, 0, 1, 1, 0, 1, 1, 1, 1, 0, 1, 1, 1, 1, 1, 1, 1,\n",
      "       1, 1, 0, 1, 1, 1, 1, 0, 0, 1, 0, 1, 1, 0, 0, 1, 1, 0, 0, 1, 1, 1,\n",
      "       1, 0, 1, 1, 0, 0, 0, 1, 0, 1, 0, 1, 1, 1, 0, 1, 1, 0, 0, 1, 0, 0,\n",
      "       0, 0, 1, 0, 0, 0, 1, 0, 1, 0, 1, 1, 0, 1, 0, 0, 0, 0, 1, 1, 0, 0,\n",
      "       1, 1, 1, 0, 1, 1, 1, 1, 1, 0, 0, 1, 1, 0, 1, 1, 0, 0, 1, 0, 1, 1,\n",
      "       1, 1, 0, 1, 1, 1, 1, 1, 0, 1, 0, 0, 0, 0, 0, 0, 0, 0, 0, 0, 0, 0,\n",
      "       0, 0, 1, 1, 1, 1, 1, 1, 0, 1, 0, 1, 1, 0, 1, 1, 0, 1, 0, 0, 1, 1,\n",
      "       1, 1, 1, 1, 1, 1, 1, 1, 1, 1, 1, 0, 1, 1, 0, 1, 0, 1, 1, 1, 1, 1,\n",
      "       1, 1, 1, 1, 1, 1, 1, 1, 1, 0, 1, 1, 1, 0, 1, 0, 1, 1, 1, 1, 0, 0,\n",
      "       0, 1, 1, 1, 1, 0, 1, 0, 1, 0, 1, 1, 1, 0, 1, 1, 1, 1, 1, 1, 1, 0,\n",
      "       0, 0, 1, 1, 1, 1, 1, 1, 1, 1, 1, 1, 1, 0, 0, 1, 0, 0, 0, 1, 0, 0,\n",
      "       1, 1, 1, 1, 1, 0, 1, 1, 1, 1, 1, 0, 1, 1, 1, 0, 1, 1, 0, 0, 1, 1,\n",
      "       1, 1, 1, 1, 0, 1, 1, 1, 1, 1, 1, 1, 0, 1, 1, 1, 1, 1, 0, 1, 1, 0,\n",
      "       1, 1, 1, 1, 1, 1, 1, 1, 1, 1, 1, 1, 0, 1, 0, 0, 1, 0, 1, 1, 1, 1,\n",
      "       1, 0, 1, 1, 0, 1, 0, 1, 1, 0, 1, 0, 1, 1, 1, 1, 1, 1, 1, 1, 0, 0,\n",
      "       1, 1, 1, 1, 1, 1, 0, 1, 1, 1, 1, 1, 1, 1, 1, 1, 1, 0, 1, 1, 1, 1,\n",
      "       1, 1, 1, 0, 1, 0, 1, 1, 0, 1, 1, 1, 1, 1, 0, 0, 1, 0, 1, 0, 1, 1,\n",
      "       1, 1, 1, 0, 1, 1, 0, 1, 0, 1, 0, 0, 1, 1, 1, 0, 1, 1, 1, 1, 1, 1,\n",
      "       1, 1, 1, 1, 1, 0, 1, 0, 0, 1, 1, 1, 1, 1, 1, 1, 1, 1, 1, 1, 1, 1,\n",
      "       1, 1, 1, 1, 1, 1, 1, 1, 1, 1, 1, 1, 0, 0, 0, 0, 0, 0, 1]), 'frame': None, 'target_names': array(['malignant', 'benign'], dtype='<U9'), 'DESCR': '.. _breast_cancer_dataset:\\n\\nBreast cancer wisconsin (diagnostic) dataset\\n--------------------------------------------\\n\\n**Data Set Characteristics:**\\n\\n    :Number of Instances: 569\\n\\n    :Number of Attributes: 30 numeric, predictive attributes and the class\\n\\n    :Attribute Information:\\n        - radius (mean of distances from center to points on the perimeter)\\n        - texture (standard deviation of gray-scale values)\\n        - perimeter\\n        - area\\n        - smoothness (local variation in radius lengths)\\n        - compactness (perimeter^2 / area - 1.0)\\n        - concavity (severity of concave portions of the contour)\\n        - concave points (number of concave portions of the contour)\\n        - symmetry\\n        - fractal dimension (\"coastline approximation\" - 1)\\n\\n        The mean, standard error, and \"worst\" or largest (mean of the three\\n        worst/largest values) of these features were computed for each image,\\n        resulting in 30 features.  For instance, field 0 is Mean Radius, field\\n        10 is Radius SE, field 20 is Worst Radius.\\n\\n        - class:\\n                - WDBC-Malignant\\n                - WDBC-Benign\\n\\n    :Summary Statistics:\\n\\n    ===================================== ====== ======\\n                                           Min    Max\\n    ===================================== ====== ======\\n    radius (mean):                        6.981  28.11\\n    texture (mean):                       9.71   39.28\\n    perimeter (mean):                     43.79  188.5\\n    area (mean):                          143.5  2501.0\\n    smoothness (mean):                    0.053  0.163\\n    compactness (mean):                   0.019  0.345\\n    concavity (mean):                     0.0    0.427\\n    concave points (mean):                0.0    0.201\\n    symmetry (mean):                      0.106  0.304\\n    fractal dimension (mean):             0.05   0.097\\n    radius (standard error):              0.112  2.873\\n    texture (standard error):             0.36   4.885\\n    perimeter (standard error):           0.757  21.98\\n    area (standard error):                6.802  542.2\\n    smoothness (standard error):          0.002  0.031\\n    compactness (standard error):         0.002  0.135\\n    concavity (standard error):           0.0    0.396\\n    concave points (standard error):      0.0    0.053\\n    symmetry (standard error):            0.008  0.079\\n    fractal dimension (standard error):   0.001  0.03\\n    radius (worst):                       7.93   36.04\\n    texture (worst):                      12.02  49.54\\n    perimeter (worst):                    50.41  251.2\\n    area (worst):                         185.2  4254.0\\n    smoothness (worst):                   0.071  0.223\\n    compactness (worst):                  0.027  1.058\\n    concavity (worst):                    0.0    1.252\\n    concave points (worst):               0.0    0.291\\n    symmetry (worst):                     0.156  0.664\\n    fractal dimension (worst):            0.055  0.208\\n    ===================================== ====== ======\\n\\n    :Missing Attribute Values: None\\n\\n    :Class Distribution: 212 - Malignant, 357 - Benign\\n\\n    :Creator:  Dr. William H. Wolberg, W. Nick Street, Olvi L. Mangasarian\\n\\n    :Donor: Nick Street\\n\\n    :Date: November, 1995\\n\\nThis is a copy of UCI ML Breast Cancer Wisconsin (Diagnostic) datasets.\\nhttps://goo.gl/U2Uwz2\\n\\nFeatures are computed from a digitized image of a fine needle\\naspirate (FNA) of a breast mass.  They describe\\ncharacteristics of the cell nuclei present in the image.\\n\\nSeparating plane described above was obtained using\\nMultisurface Method-Tree (MSM-T) [K. P. Bennett, \"Decision Tree\\nConstruction Via Linear Programming.\" Proceedings of the 4th\\nMidwest Artificial Intelligence and Cognitive Science Society,\\npp. 97-101, 1992], a classification method which uses linear\\nprogramming to construct a decision tree.  Relevant features\\nwere selected using an exhaustive search in the space of 1-4\\nfeatures and 1-3 separating planes.\\n\\nThe actual linear program used to obtain the separating plane\\nin the 3-dimensional space is that described in:\\n[K. P. Bennett and O. L. Mangasarian: \"Robust Linear\\nProgramming Discrimination of Two Linearly Inseparable Sets\",\\nOptimization Methods and Software 1, 1992, 23-34].\\n\\nThis database is also available through the UW CS ftp server:\\n\\nftp ftp.cs.wisc.edu\\ncd math-prog/cpo-dataset/machine-learn/WDBC/\\n\\n.. topic:: References\\n\\n   - W.N. Street, W.H. Wolberg and O.L. Mangasarian. Nuclear feature extraction \\n     for breast tumor diagnosis. IS&T/SPIE 1993 International Symposium on \\n     Electronic Imaging: Science and Technology, volume 1905, pages 861-870,\\n     San Jose, CA, 1993.\\n   - O.L. Mangasarian, W.N. Street and W.H. Wolberg. Breast cancer diagnosis and \\n     prognosis via linear programming. Operations Research, 43(4), pages 570-577, \\n     July-August 1995.\\n   - W.H. Wolberg, W.N. Street, and O.L. Mangasarian. Machine learning techniques\\n     to diagnose breast cancer from fine-needle aspirates. Cancer Letters 77 (1994) \\n     163-171.', 'feature_names': array(['mean radius', 'mean texture', 'mean perimeter', 'mean area',\n",
      "       'mean smoothness', 'mean compactness', 'mean concavity',\n",
      "       'mean concave points', 'mean symmetry', 'mean fractal dimension',\n",
      "       'radius error', 'texture error', 'perimeter error', 'area error',\n",
      "       'smoothness error', 'compactness error', 'concavity error',\n",
      "       'concave points error', 'symmetry error',\n",
      "       'fractal dimension error', 'worst radius', 'worst texture',\n",
      "       'worst perimeter', 'worst area', 'worst smoothness',\n",
      "       'worst compactness', 'worst concavity', 'worst concave points',\n",
      "       'worst symmetry', 'worst fractal dimension'], dtype='<U23'), 'filename': 'C:\\\\Users\\\\brijesh\\\\anaconda3\\\\lib\\\\site-packages\\\\sklearn\\\\datasets\\\\data\\\\breast_cancer.csv'}\n"
     ]
    }
   ],
   "source": [
    "print(data)"
   ]
  },
  {
   "cell_type": "code",
   "execution_count": 3,
   "id": "89647206",
   "metadata": {},
   "outputs": [
    {
     "name": "stdout",
     "output_type": "stream",
     "text": [
      "[7 7 1 0 1 6 1 6 6 6 2 4 4 2 6 2 2 4 5 6 0 8 2 5 7 4 2 4 4 4 1 6 4 7 4 4 6\n",
      " 0 6 6 6 0 1 6 6 1 8 6 0 6 0 6 0 4 2 0 7 2 0 8 8 8 2 8 6 2 8 0 8 0 7 8 1 6\n",
      " 0 4 0 1 1 0 0 0 3 4 0 1 6 1 0 6 6 2 6 6 2 7 0 8 0 6 2 8 0 8 8 6 0 0 5 0 8\n",
      " 0 6 8 8 0 8 2 4 4 0 1 5 6 6 6 6 1 6 1 0 2 4 2 1 6 0 0 2 0 8 4 0 6 8 0 0 6\n",
      " 6 6 0 8 8 0 6 0 4 2 0 0 0 1 5 0 5 6 8 4 1 6 0 2 2 8 8 8 8 2 0 0 3 7 4 0 2\n",
      " 8 4 0 0 0 6 0 8 6 6 0 6 4 1 2 0 4 5 2 6 2 8 4 6 2 1 0 3 2 6 6 0 8 7 5 6 6\n",
      " 8 2 6 2 8 6 0 6 4 0 0 7 8 6 3 7 6 4 6 0 0 6 1 8 0 0 8 0 7 0 7 4 7 6 7 2 4\n",
      " 2 7 4 4 2 4 3 8 6 0 8 6 0 5 8 4 0 0 4 6 6 1 0 1 2 0 0 0 0 0 0 6 6 0 0 0 6\n",
      " 8 0 6 8 7 0 1 8 0 0 6 8 6 6 0 6 0 0 8 0 0 1 8 0 8 1 0 7 0 0 6 0 2 2 2 0 0\n",
      " 0 0 4 0 7 8 3 6 8 0 1 0 8 0 2 0 0 0 2 3 2 0 0 0 6 8 8 0 6 0 2 6 7 1 0 3 5\n",
      " 4 6 1 7 6 2 8 6 6 0 0 0 0 0 6 6 0 6 0 4 8 8 4 5 0 6 6 0 0 0 4 0 0 0 0 0 2\n",
      " 6 4 0 0 0 8 2 2 0 8 1 0 0 0 6 0 6 8 8 8 0 8 0 6 0 1 1 6 6 0 6 6 6 0 4 6 8\n",
      " 4 0 4 6 6 7 0 1 0 6 0 6 0 6 0 8 1 9 6 0 6 6 6 8 4 0 8 0 2 0 8 0 6 6 0 2 0\n",
      " 6 6 6 2 0 6 1 0 2 0 4 4 0 6 6 0 0 1 7 2 6 0 3 8 8 0 8 2 2 0 6 6 2 2 0 1 1\n",
      " 6 0 8 3 0 6 8 8 6 0 6 0 0 0 6 1 8 7 6 0 8 8 0 6 6 6 6 6 8 8 8 0 8 0 0 8 0\n",
      " 8 8 8 6 0 6 0 2 7 5 1 4 7 8]\n",
      "[[1.20269364e+01 1.80218497e+01 7.72786705e+01 4.45356069e+02\n",
      "  9.33026590e-02 7.88433526e-02 4.43303682e-02 2.55613410e-02\n",
      "  1.75363006e-01 6.24437572e-02 2.76698266e-01 1.22186647e+00\n",
      "  1.96422023e+00 2.03239422e+01 6.97534104e-03 2.05825260e-02\n",
      "  2.39695353e-02 9.77756647e-03 2.07963584e-02 3.30613584e-03\n",
      "  1.32510983e+01 2.39936994e+01 8.61298266e+01 5.37038150e+02\n",
      "  1.26847341e-01 1.87697688e-01 1.70588422e-01 7.65791387e-02\n",
      "  2.78100000e-01 7.91802890e-02]\n",
      " [1.91125641e+01 2.13915385e+01 1.26166667e+02 1.13710256e+03\n",
      "  1.00631538e-01 1.44869744e-01 1.71290000e-01 9.79474359e-02\n",
      "  1.94587179e-01 6.03153846e-02 7.09964103e-01 1.25782821e+00\n",
      "  4.92356410e+00 8.55392308e+01 6.87564103e-03 3.26800000e-02\n",
      "  4.45628205e-02 1.63343077e-02 2.29020513e-02 3.91266667e-03\n",
      "  2.29733333e+01 2.84253846e+01 1.52948718e+02 1.61000000e+03\n",
      "  1.39420513e-01 3.46105128e-01 4.41274359e-01 1.85256410e-01\n",
      "  3.19161538e-01 8.50241026e-02]\n",
      " [1.53616667e+01 1.99164815e+01 1.00654815e+02 7.30896296e+02\n",
      "  1.00472407e-01 1.23691296e-01 1.20185556e-01 6.46442593e-02\n",
      "  1.85512963e-01 6.24681481e-02 3.91979630e-01 1.02468704e+00\n",
      "  2.74309259e+00 3.71290741e+01 6.64714815e-03 2.71289630e-02\n",
      "  3.69051852e-02 1.33385926e-02 1.91141852e-02 3.54596296e-03\n",
      "  1.78677778e+01 2.70461111e+01 1.18500000e+02 9.78003704e+02\n",
      "  1.40248889e-01 3.26780741e-01 3.81785185e-01 1.50627778e-01\n",
      "  3.13044444e-01 8.85816667e-02]\n",
      " [2.43160000e+01 2.23750000e+01 1.61910000e+02 1.85420000e+03\n",
      "  1.03174000e-01 1.68032000e-01 2.35580000e-01 1.40631000e-01\n",
      "  1.79210000e-01 5.89640000e-02 1.23297000e+00 1.14835000e+00\n",
      "  8.82800000e+00 1.99120000e+02 6.61970000e-03 2.92370000e-02\n",
      "  3.93590000e-02 1.50810000e-02 1.95370000e-02 3.44310000e-03\n",
      "  3.09990000e+01 2.98160000e+01 2.08940000e+02 2.93600000e+03\n",
      "  1.40180000e-01 3.64520000e-01 4.68620000e-01 2.28060000e-01\n",
      "  2.76880000e-01 8.10070000e-02]\n",
      " [1.72517391e+01 2.14304348e+01 1.13647826e+02 9.28467391e+02\n",
      "  9.92771739e-02 1.33583478e-01 1.39703478e-01 8.11556522e-02\n",
      "  1.90095652e-01 6.09013043e-02 5.73597826e-01 1.28430217e+00\n",
      "  4.11789130e+00 6.26965217e+01 6.39504348e-03 3.04514565e-02\n",
      "  3.78093478e-02 1.50075435e-02 1.98984783e-02 4.04591304e-03\n",
      "  2.05004348e+01 2.86752174e+01 1.36402174e+02 1.29245652e+03\n",
      "  1.37892174e-01 3.22975217e-01 3.88034783e-01 1.69162391e-01\n",
      "  3.10847826e-01 8.52602174e-02]\n",
      " [2.16750000e+01 2.26625000e+01 1.44733333e+02 1.46675000e+03\n",
      "  1.07715833e-01 1.73916667e-01 2.45833333e-01 1.31065833e-01\n",
      "  1.95425000e-01 6.02741667e-02 9.03566667e-01 1.31857500e+00\n",
      "  6.42233333e+00 1.27005000e+02 7.50666667e-03 4.05083333e-02\n",
      "  5.54833333e-02 1.67533333e-02 1.98733333e-02 4.17350000e-03\n",
      "  2.71833333e+01 3.00241667e+01 1.83983333e+02 2.27191667e+03\n",
      "  1.44983333e-01 4.09366667e-01 5.69216667e-01 2.28475000e-01\n",
      "  3.12266667e-01 8.52466667e-02]\n",
      " [1.38279365e+01 1.91494444e+01 8.97186508e+01 5.90661111e+02\n",
      "  9.34092063e-02 9.92853175e-02 7.18241905e-02 3.98695476e-02\n",
      "  1.74434127e-01 6.17180159e-02 3.04898413e-01 1.10019841e+00\n",
      "  2.20347540e+00 2.61375397e+01 5.79755556e-03 2.41773095e-02\n",
      "  2.77843492e-02 1.08769921e-02 1.78418413e-02 3.51059365e-03\n",
      "  1.55457143e+01 2.57181746e+01 1.02610159e+02 7.42215873e+02\n",
      "  1.27978016e-01 2.61547937e-01 2.59325000e-01 1.09396746e-01\n",
      "  2.83889683e-01 8.44613492e-02]\n",
      " [1.99319231e+01 2.20330769e+01 1.31950000e+02 1.23710000e+03\n",
      "  1.01086538e-01 1.57223846e-01 1.83885000e-01 1.03358077e-01\n",
      "  1.92600000e-01 6.12934615e-02 7.24403846e-01 1.02957308e+00\n",
      "  5.06257692e+00 9.20784615e+01 5.94592308e-03 3.09096154e-02\n",
      "  4.11569231e-02 1.49783846e-02 1.77303846e-02 3.86411538e-03\n",
      "  2.50984615e+01 2.94969231e+01 1.67723077e+02 1.92269231e+03\n",
      "  1.43569231e-01 4.08057692e-01 4.97996154e-01 2.08269231e-01\n",
      "  3.22396154e-01 9.20384615e-02]\n",
      " [9.73218293e+00 1.77415854e+01 6.21885366e+01 2.90591463e+02\n",
      "  9.68318293e-02 8.16114634e-02 4.58635244e-02 1.84159634e-02\n",
      "  1.83691463e-01 6.90581707e-02 2.98315854e-01 1.50651341e+00\n",
      "  2.05055732e+00 1.78766585e+01 1.01134390e-02 2.57784390e-02\n",
      "  3.43888659e-02 1.01834756e-02 2.54907317e-02 5.18631707e-03\n",
      "  1.06992561e+01 2.28543902e+01 6.89584146e+01 3.50034146e+02\n",
      "  1.32730854e-01 1.66539634e-01 1.44692683e-01 5.29096341e-02\n",
      "  2.72664634e-01 8.66247561e-02]\n",
      " [2.74200000e+01 2.62700000e+01 1.86900000e+02 2.50100000e+03\n",
      "  1.08400000e-01 1.98800000e-01 3.63500000e-01 1.68900000e-01\n",
      "  2.06100000e-01 5.62300000e-02 2.54700000e+00 1.30600000e+00\n",
      "  1.86500000e+01 5.42200000e+02 7.65000000e-03 5.37400000e-02\n",
      "  8.05500000e-02 2.59800000e-02 1.69700000e-02 4.55800000e-03\n",
      "  3.60400000e+01 3.13700000e+01 2.51200000e+02 4.25400000e+03\n",
      "  1.35700000e-01 4.25600000e-01 6.83300000e-01 2.62500000e-01\n",
      "  2.64100000e-01 7.42700000e-02]]\n"
     ]
    }
   ],
   "source": [
    "from sklearn.cluster import KMeans\n",
    "kmeans = KMeans(n_clusters=10, random_state=62)\n",
    "prediction = kmeans.fit_predict(data.data)\n",
    "print(prediction)\n",
    "\n",
    "kmeans.cluster_centers_.shape\n",
    "print(kmeans.cluster_centers_)"
   ]
  },
  {
   "cell_type": "code",
   "execution_count": 4,
   "id": "d7bfeb0e",
   "metadata": {},
   "outputs": [
    {
     "data": {
      "image/png": "[encoded data removed]",
      "text/plain": [
       "<Figure size 576x216 with 10 Axes>"
      ]
     },
     "metadata": {},
     "output_type": "display_data"
    }
   ],
   "source": [
    "# Scatter plot of the data points\n",
    "fig, ax = plt.subplots(2, 5, figsize=(8, 3))\n",
    "centers = kmeans.cluster_centers_.reshape(10, 6, 5)\n",
    "for axi, center in zip(ax.flat, centers):\n",
    "  axi.set(xticks=[], yticks=[])\n",
    "  axi.imshow(center, interpolation='nearest', cmap=plt.cm.binary)"
   ]
  },
  {
   "cell_type": "code",
   "execution_count": 5,
   "id": "b9f91ffe",
   "metadata": {},
   "outputs": [],
   "source": [
    "labels = np.zeros_like(prediction)\n",
    "for i in range(10):\n",
    "  mask = (prediction == i)\n",
    "  labels[mask] = mode(data.target[mask])[0]"
   ]
  },
  {
   "cell_type": "code",
   "execution_count": 6,
   "id": "0b7a52cc",
   "metadata": {},
   "outputs": [
    {
     "data": {
      "text/plain": [
       "0.9050966608084359"
      ]
     },
     "execution_count": 6,
     "metadata": {},
     "output_type": "execute_result"
    }
   ],
   "source": [
    "from sklearn.metrics import accuracy_score\n",
    "accuracy_score(data.target, labels)"
   ]
  },
  {
   "cell_type": "code",
   "execution_count": null,
   "id": "24f787bb",
   "metadata": {},
   "outputs": [],
   "source": []
  }
 ],
 "metadata": {
  "kernelspec": {
   "display_name": "Python 3",
   "language": "python",
   "name": "python3"
  },
  "language_info": {
   "codemirror_mode": {
    "name": "ipython",
    "version": 3
   },
   "file_extension": ".py",
   "mimetype": "text/x-python",
   "name": "python",
   "nbconvert_exporter": "python",
   "pygments_lexer": "ipython3",
   "version": "3.8.8"
  }
 },
 "nbformat": 4,
 "nbformat_minor": 5
}
