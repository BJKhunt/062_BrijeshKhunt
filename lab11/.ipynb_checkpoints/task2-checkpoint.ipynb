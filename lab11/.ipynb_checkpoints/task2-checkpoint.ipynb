{
 "cells": [
  {
   "cell_type": "code",
   "execution_count": 31,
   "id": "fde24a0a",
   "metadata": {},
   "outputs": [],
   "source": [
    "import numpy as np \n",
    "import matplotlib.pyplot as plt \n",
    "from sklearn.decomposition import PCA \n",
    "import pandas as pd \n",
    "import math \n",
    "import random \n",
    "from sklearn import datasets"
   ]
  },
  {
   "cell_type": "code",
   "execution_count": 32,
   "id": "d775d936",
   "metadata": {},
   "outputs": [
    {
     "data": {
      "text/plain": [
       "(569, 30)"
      ]
     },
     "execution_count": 32,
     "metadata": {},
     "output_type": "execute_result"
    }
   ],
   "source": [
    "dataset = datasets.load_breast_cancer()\n",
    "dataset.data.shape"
   ]
  },
  {
   "cell_type": "code",
   "execution_count": 33,
   "id": "060767f9",
   "metadata": {},
   "outputs": [
    {
     "data": {
      "text/plain": [
       "array(['mean radius', 'mean texture', 'mean perimeter', 'mean area',\n",
       "       'mean smoothness', 'mean compactness', 'mean concavity',\n",
       "       'mean concave points', 'mean symmetry', 'mean fractal dimension',\n",
       "       'radius error', 'texture error', 'perimeter error', 'area error',\n",
       "       'smoothness error', 'compactness error', 'concavity error',\n",
       "       'concave points error', 'symmetry error',\n",
       "       'fractal dimension error', 'worst radius', 'worst texture',\n",
       "       'worst perimeter', 'worst area', 'worst smoothness',\n",
       "       'worst compactness', 'worst concavity', 'worst concave points',\n",
       "       'worst symmetry', 'worst fractal dimension'], dtype='<U23')"
      ]
     },
     "execution_count": 33,
     "metadata": {},
     "output_type": "execute_result"
    }
   ],
   "source": [
    "dataset.feature_names"
   ]
  },
  {
   "cell_type": "code",
   "execution_count": 34,
   "id": "69c68f3a",
   "metadata": {},
   "outputs": [
    {
     "data": {
      "text/plain": [
       "array(['malignant', 'benign'], dtype='<U9')"
      ]
     },
     "execution_count": 34,
     "metadata": {},
     "output_type": "execute_result"
    }
   ],
   "source": [
    "dataset.target_names"
   ]
  },
  {
   "cell_type": "code",
   "execution_count": 39,
   "id": "008f53a9",
   "metadata": {},
   "outputs": [],
   "source": [
    "pca = PCA(n_components=25, whiten=True) \n",
    "pca_fit = pca.fit(dataset.data)"
   ]
  },
  {
   "cell_type": "code",
   "execution_count": 40,
   "id": "0b8056d9",
   "metadata": {},
   "outputs": [
    {
     "name": "stdout",
     "output_type": "stream",
     "text": [
      "<class 'numpy.ndarray'>\n",
      "<class 'list'>\n"
     ]
    }
   ],
   "source": [
    "pca_tran = pca_fit.transform(dataset.data)\n",
    "column_list=dataset.feature_names\n",
    "print(type(column_list))\n",
    "\n",
    "column_list=list(column_list)\n",
    "print(type(column_list))\n",
    "\n",
    "dataPCA = pd.DataFrame(data = pca_tran, columns = column_list[:25])"
   ]
  },
  {
   "cell_type": "code",
   "execution_count": 41,
   "id": "d4b93551",
   "metadata": {},
   "outputs": [
    {
     "data": {
      "text/plain": [
       "(455, 25)"
      ]
     },
     "execution_count": 41,
     "metadata": {},
     "output_type": "execute_result"
    }
   ],
   "source": [
    "x_tr, x_ts, y_tr, y_ts = train_test_split(dataPCA, dataset.target, test_size = 0.2,random_state=62)\n",
    "x_tr.shape"
   ]
  },
  {
   "cell_type": "code",
   "execution_count": 42,
   "id": "0de725a0",
   "metadata": {},
   "outputs": [],
   "source": [
    "from sklearn import svm,metrics\n",
    "model = svm.SVC(kernel='linear')\n",
    "model.fit(x_tr,y_tr)\n",
    "pred = model.predict(x_ts)"
   ]
  },
  {
   "cell_type": "code",
   "execution_count": 43,
   "id": "3379503c",
   "metadata": {},
   "outputs": [
    {
     "name": "stdout",
     "output_type": "stream",
     "text": [
      "Accuracy: 0.9736842105263158\n",
      "Precision: 0.971830985915493\n",
      "Recall: 0.9857142857142858\n"
     ]
    }
   ],
   "source": [
    "from sklearn import metrics\n",
    "print(\"Accuracy:\",metrics.accuracy_score(y_ts, pred))\n",
    "print(\"Precision:\",metrics.precision_score(y_ts, pred))\n",
    "print(\"Recall:\",metrics.recall_score(y_ts, pred))"
   ]
  },
  {
   "cell_type": "code",
   "execution_count": null,
   "id": "97c4e4cb",
   "metadata": {},
   "outputs": [],
   "source": []
  }
 ],
 "metadata": {
  "kernelspec": {
   "display_name": "Python 3",
   "language": "python",
   "name": "python3"
  },
  "language_info": {
   "codemirror_mode": {
    "name": "ipython",
    "version": 3
   },
   "file_extension": ".py",
   "mimetype": "text/x-python",
   "name": "python",
   "nbconvert_exporter": "python",
   "pygments_lexer": "ipython3",
   "version": "3.8.8"
  }
 },
 "nbformat": 4,
 "nbformat_minor": 5
}
