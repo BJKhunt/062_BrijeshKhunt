{
 "cells": [
  {
   "cell_type": "code",
   "execution_count": 2,
   "id": "15de9852",
   "metadata": {},
   "outputs": [],
   "source": [
    "import numpy as np\n",
    "import pandas as pd\n",
    "import matplotlib.pyplot as plt\n",
    "from sklearn import preprocessing\n",
    "from sklearn.tree import DecisionTreeClassifier, export_graphviz, plot_tree"
   ]
  },
  {
   "cell_type": "code",
   "execution_count": 3,
   "id": "1ba49e20",
   "metadata": {},
   "outputs": [],
   "source": [
    "#Predictor variables\n",
    "Outlook = ['Rainy', 'Rainy', 'Overcast', 'Sunny', 'Sunny', 'Sunny', 'Overcast',\n",
    "            'Rainy', 'Rainy', 'Sunny', 'Rainy','Overcast', 'Overcast', 'Sunny']\n",
    "Temperature = ['Hot', 'Hot', 'Hot', 'Mild', 'Cool', 'Cool', 'Cool',\n",
    "                'Mild', 'Cool', 'Mild', 'Mild', 'Mild', 'Hot', 'Mild']\n",
    "Humidity = ['High', 'High', 'High', 'High', 'Normal', 'Normal', 'Normal',\n",
    "            'High', 'Normal', 'Normal', 'Normal', 'High', 'Normal', 'High']\n",
    "Wind = ['False', 'True', 'False', 'False', 'False', 'True', 'True',\n",
    "            'False', 'False', 'False', 'True', 'True', 'False', 'True']\n",
    "\n",
    "#Class Label:\n",
    "Play = ['No', 'No', 'Yes', 'Yes', 'Yes', 'No', 'Yes', 'No',\n",
    "'Yes', 'Yes', 'Yes', 'Yes', 'Yes', 'No']"
   ]
  },
  {
   "cell_type": "code",
   "execution_count": 4,
   "id": "0e27a814",
   "metadata": {},
   "outputs": [
    {
     "name": "stdout",
     "output_type": "stream",
     "text": [
      "Outllok mapping:  {'Overcast': 0, 'Rainy': 1, 'Sunny': 2}\n",
      "Temperature mapping:  {'Cool': 0, 'Hot': 1, 'Mild': 2}\n",
      "Humidity mapping:  {'High': 0, 'Normal': 1}\n",
      "Wind mapping:  {'False': 0, 'True': 1}\n",
      "Play mapping:  {'No': 0, 'Yes': 1}\n",
      "\n",
      "-------------Data After Encoding----------------\n",
      "\n",
      "Weather:  [1 1 0 2 2 2 0 1 1 2 1 0 0 2]\n",
      "Temerature:  [1 1 1 2 0 0 0 2 0 2 2 2 1 2]\n",
      "Humidity:  [0 0 0 0 1 1 1 0 1 1 1 0 1 0]\n",
      "Wind:  [0 1 0 0 0 1 1 0 0 0 1 1 0 1]\n",
      "Play:  [0 0 1 1 1 0 1 0 1 1 1 1 1 0]\n"
     ]
    }
   ],
   "source": [
    "le = preprocessing.LabelEncoder()\n",
    "\n",
    "Outlook_encoded = le.fit_transform(Outlook)\n",
    "Outlook_name_mapping = dict(zip(le.classes_, le.transform(le.classes_)))\n",
    "print(\"Outllok mapping: \",Outlook_name_mapping)\n",
    "\n",
    "Temperature_encoded = le.fit_transform(Temperature)\n",
    "Temperature_name_mapping = dict(zip(le.classes_, le.transform(le.classes_)))\n",
    "print(\"Temperature mapping: \",Temperature_name_mapping)\n",
    "\n",
    "Humidity_encoded = le.fit_transform(Humidity)\n",
    "Humidity_name_mapping = dict(zip(le.classes_, le.transform(le.classes_)))\n",
    "print(\"Humidity mapping: \",Humidity_name_mapping)\n",
    "\n",
    "Wind_encoded = le.fit_transform(Wind)\n",
    "Wind_name_mapping = dict(zip(le.classes_, le.transform(le.classes_)))\n",
    "print(\"Wind mapping: \",Wind_name_mapping)\n",
    "\n",
    "Play_encoded = le.fit_transform(Play)\n",
    "Play_name_mapping = dict(zip(le.classes_, le.transform(le.classes_)))\n",
    "print(\"Play mapping: \",Play_name_mapping)\n",
    "\n",
    "print(\"\\n-------------Data After Encoding----------------\\n\")\n",
    "print(\"Weather: \" ,Outlook_encoded)\n",
    "print(\"Temerature: \" ,Temperature_encoded)\n",
    "print(\"Humidity: \" ,Humidity_encoded)\n",
    "print(\"Wind: \" ,Wind_encoded)\n",
    "print(\"Play: \" ,Play_encoded)"
   ]
  },
  {
   "cell_type": "code",
   "execution_count": 26,
   "id": "735a2afe",
   "metadata": {},
   "outputs": [
    {
     "name": "stdout",
     "output_type": "stream",
     "text": [
      "((1, 1, 0, 0), (1, 1, 0, 1), (0, 1, 0, 0), (2, 2, 0, 0), (2, 0, 1, 0), (2, 0, 1, 1), (0, 0, 1, 1), (1, 2, 0, 0), (1, 0, 1, 0), (2, 2, 1, 0), (1, 2, 1, 1), (0, 2, 0, 1), (0, 1, 1, 0), (2, 2, 0, 1))\n"
     ]
    }
   ],
   "source": [
    "features = tuple(zip(Outlook_encoded, Temperature_encoded, Humidity_encoded, Wind_encoded))\n",
    "print(features)"
   ]
  },
  {
   "cell_type": "code",
   "execution_count": 41,
   "id": "9a09dac6",
   "metadata": {},
   "outputs": [],
   "source": [
    "data_train, data_test, target_train, target_test = train_test_split(features,\n",
    "                        Play_encoded, test_size = 0.10, random_state = 62)"
   ]
  },
  {
   "cell_type": "code",
   "execution_count": 42,
   "id": "837b2625",
   "metadata": {},
   "outputs": [
    {
     "data": {
      "text/plain": [
       "DecisionTreeClassifier(criterion='entropy')"
      ]
     },
     "execution_count": 42,
     "metadata": {},
     "output_type": "execute_result"
    }
   ],
   "source": [
    "#Create a Decision Tree Classifier (using Entropy)\n",
    "clf_entropy=DecisionTreeClassifier(criterion=\"entropy\")\n",
    "\n",
    "# Train the model using the training sets\n",
    "clf_entropy.fit(data_train,target_train)"
   ]
  },
  {
   "cell_type": "code",
   "execution_count": 43,
   "id": "12efb4c1",
   "metadata": {},
   "outputs": [],
   "source": [
    "# Predict the classes of test data\n",
    "test_pred=clf_entropy.predict(data_test)"
   ]
  },
  {
   "cell_type": "code",
   "execution_count": 44,
   "id": "b5703abb",
   "metadata": {},
   "outputs": [
    {
     "name": "stdout",
     "output_type": "stream",
     "text": [
      "\n",
      "Accuracy: 0.5000\n"
     ]
    }
   ],
   "source": [
    "from sklearn.metrics import accuracy_score\n",
    "print('\\nAccuracy: {0:.4f}'.format(accuracy_score(target_test, test_pred)))"
   ]
  },
  {
   "cell_type": "code",
   "execution_count": 45,
   "id": "ade24de5",
   "metadata": {},
   "outputs": [
    {
     "name": "stdout",
     "output_type": "stream",
     "text": [
      "Predicted Value: [1]\n"
     ]
    }
   ],
   "source": [
    "predicted= clf_entropy.predict([[1,2,2,0]]) # 1:Rainy 2:Mild 0:False  2:Normal\n",
    "print(\"Predicted Value:\", predicted)"
   ]
  },
  {
   "cell_type": "code",
   "execution_count": 46,
   "id": "71fa1e16",
   "metadata": {},
   "outputs": [
    {
     "name": "stdout",
     "output_type": "stream",
     "text": [
      "Predicted Value: [1]\n"
     ]
    }
   ],
   "source": [
    "predicted= clf_entropy.predict([[2,0,0,1]]) # 2:Sunny 0:Cool  1:True  2:Humidity\n",
    "print(\"Predicted Value:\", predicted)"
   ]
  },
  {
   "cell_type": "code",
   "execution_count": 47,
   "id": "396ce4e8",
   "metadata": {},
   "outputs": [
    {
     "name": "stdout",
     "output_type": "stream",
     "text": [
      "precision: 0.0\n",
      "recall: 0.0\n"
     ]
    },
    {
     "name": "stderr",
     "output_type": "stream",
     "text": [
      "C:\\Users\\brijesh\\anaconda3\\lib\\site-packages\\sklearn\\metrics\\_classification.py:1245: UndefinedMetricWarning: Recall is ill-defined and being set to 0.0 due to no true samples. Use `zero_division` parameter to control this behavior.\n",
      "  _warn_prf(average, modifier, msg_start, len(result))\n"
     ]
    }
   ],
   "source": [
    "from sklearn.metrics import precision_score\n",
    "from sklearn.metrics import recall_score\n",
    "\n",
    "precision = precision_score(target_test, test_pred)\n",
    "recall = recall_score(target_test, test_pred)\n",
    "\n",
    "print('precision: {}'.format(precision))\n",
    "print('recall: {}'.format(recall))"
   ]
  },
  {
   "cell_type": "code",
   "execution_count": null,
   "id": "38024cd1",
   "metadata": {},
   "outputs": [],
   "source": []
  }
 ],
 "metadata": {
  "kernelspec": {
   "display_name": "Python 3",
   "language": "python",
   "name": "python3"
  },
  "language_info": {
   "codemirror_mode": {
    "name": "ipython",
    "version": 3
   },
   "file_extension": ".py",
   "mimetype": "text/x-python",
   "name": "python",
   "nbconvert_exporter": "python",
   "pygments_lexer": "ipython3",
   "version": "3.8.8"
  }
 },
 "nbformat": 4,
 "nbformat_minor": 5
}
