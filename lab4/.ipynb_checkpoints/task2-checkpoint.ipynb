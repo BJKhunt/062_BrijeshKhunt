{
 "cells": [
  {
   "cell_type": "code",
   "execution_count": 11,
   "id": "1e2c3a13",
   "metadata": {},
   "outputs": [],
   "source": [
    "# evaluate logistic regression on the breast cancer dataset with an one-hot encoding\n",
    "from numpy import mean\n",
    "from numpy import std\n",
    "from pandas import read_csv\n",
    "from sklearn.model_selection import train_test_split\n",
    "from sklearn.preprocessing import OneHotEncoder,LabelEncoder\n",
    "from sklearn.tree import DecisionTreeClassifier\n",
    "from sklearn.metrics import accuracy_score"
   ]
  },
  {
   "cell_type": "code",
   "execution_count": 8,
   "id": "1814a013",
   "metadata": {},
   "outputs": [
    {
     "name": "stdout",
     "output_type": "stream",
     "text": [
      "           0          1        2      3      4    5        6           7  \\\n",
      "0    '40-49'  'premeno'  '15-19'  '0-2'  'yes'  '3'  'right'   'left_up'   \n",
      "1    '50-59'     'ge40'  '15-19'  '0-2'   'no'  '1'  'right'   'central'   \n",
      "2    '50-59'     'ge40'  '35-39'  '0-2'   'no'  '2'   'left'  'left_low'   \n",
      "3    '40-49'  'premeno'  '35-39'  '0-2'  'yes'  '3'  'right'  'left_low'   \n",
      "4    '40-49'  'premeno'  '30-34'  '3-5'  'yes'  '2'   'left'  'right_up'   \n",
      "..       ...        ...      ...    ...    ...  ...      ...         ...   \n",
      "281  '50-59'     'ge40'  '30-34'  '6-8'  'yes'  '2'   'left'  'left_low'   \n",
      "282  '50-59'  'premeno'  '25-29'  '3-5'  'yes'  '2'   'left'  'left_low'   \n",
      "283  '30-39'  'premeno'  '30-34'  '6-8'  'yes'  '2'  'right'  'right_up'   \n",
      "284  '50-59'  'premeno'  '15-19'  '0-2'   'no'  '2'  'right'  'left_low'   \n",
      "285  '50-59'     'ge40'  '40-44'  '0-2'   'no'  '3'   'left'  'right_up'   \n",
      "\n",
      "         8                       9  \n",
      "0     'no'     'recurrence-events'  \n",
      "1     'no'  'no-recurrence-events'  \n",
      "2     'no'     'recurrence-events'  \n",
      "3    'yes'  'no-recurrence-events'  \n",
      "4     'no'     'recurrence-events'  \n",
      "..     ...                     ...  \n",
      "281   'no'  'no-recurrence-events'  \n",
      "282  'yes'  'no-recurrence-events'  \n",
      "283   'no'  'no-recurrence-events'  \n",
      "284   'no'  'no-recurrence-events'  \n",
      "285   'no'  'no-recurrence-events'  \n",
      "\n",
      "[286 rows x 10 columns]\n",
      "Input: (286, 9)\n",
      "Output: (286,)\n"
     ]
    }
   ],
   "source": [
    "url = \"https://raw.githubusercontent.com/jbrownlee/Datasets/master/breast-cancer.csv\"\n",
    "# load the dataset\n",
    "dataset = read_csv(url, header=None)\n",
    "# retrieve the array of data\n",
    "print(dataset)\n",
    "data = dataset.values\n",
    "# separate into input and output columns\n",
    "X = data[:, :-1].astype(str)\n",
    "y = data[:, -1].astype(str)\n",
    "\n",
    "print('Input:',X.shape)\n",
    "print('Output:',y.shape)"
   ]
  },
  {
   "cell_type": "code",
   "execution_count": 9,
   "id": "7885b1ad",
   "metadata": {},
   "outputs": [],
   "source": [
    "X_train, X_test, y_train, y_test = train_test_split(X, y, test_size=0.40, random_state=62)"
   ]
  },
  {
   "cell_type": "code",
   "execution_count": 10,
   "id": "d376ccf4",
   "metadata": {},
   "outputs": [],
   "source": [
    "onehot_encoder = OneHotEncoder(sparse=False,handle_unknown='ignore')\n",
    "onehot_encoder.fit(X_train)\n",
    "X_train = onehot_encoder.transform(X_train)\n",
    "X_test = onehot_encoder.transform(X_test)\n",
    "\n",
    "label_encoder = LabelEncoder()\n",
    "label_encoder.fit(y_train)\n",
    "y_train = label_encoder.transform(y_train)\n",
    "y_test = label_encoder.transform(y_test)"
   ]
  },
  {
   "cell_type": "code",
   "execution_count": 12,
   "id": "7c8aad7b",
   "metadata": {},
   "outputs": [
    {
     "name": "stdout",
     "output_type": "stream",
     "text": [
      "0.6782608695652174\n"
     ]
    }
   ],
   "source": [
    "clf_entropy=DecisionTreeClassifier(criterion=\"entropy\")\n",
    "\n",
    "clf_entropy.fit(X_train, y_train)\n",
    "pred_test = clf_entropy.predict(X_test)\n",
    "acc= accuracy_score(y_test, pred_test)\n",
    "print(acc)"
   ]
  },
  {
   "cell_type": "code",
   "execution_count": 13,
   "id": "f7ae6c98",
   "metadata": {},
   "outputs": [
    {
     "name": "stdout",
     "output_type": "stream",
     "text": [
      "precision: 0.475\n",
      "recall: 0.5428571428571428\n"
     ]
    }
   ],
   "source": [
    "from sklearn.metrics import precision_score\n",
    "from sklearn.metrics import recall_score\n",
    "\n",
    "precision = precision_score(y_test, pred_test)\n",
    "recall = recall_score(y_test, pred_test)\n",
    "\n",
    "print('precision: {}'.format(precision))\n",
    "print('recall: {}'.format(recall))"
   ]
  },
  {
   "cell_type": "code",
   "execution_count": null,
   "id": "92c6dae6",
   "metadata": {},
   "outputs": [],
   "source": []
  }
 ],
 "metadata": {
  "kernelspec": {
   "display_name": "Python 3",
   "language": "python",
   "name": "python3"
  },
  "language_info": {
   "codemirror_mode": {
    "name": "ipython",
    "version": 3
   },
   "file_extension": ".py",
   "mimetype": "text/x-python",
   "name": "python",
   "nbconvert_exporter": "python",
   "pygments_lexer": "ipython3",
   "version": "3.8.8"
  }
 },
 "nbformat": 4,
 "nbformat_minor": 5
}
